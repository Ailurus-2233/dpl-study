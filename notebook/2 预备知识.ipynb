{
 "cells": [
  {
   "cell_type": "markdown",
   "source": [
    "## 2.1.1 基本操作"
   ],
   "metadata": {
    "collapsed": false
   }
  },
  {
   "cell_type": "code",
   "execution_count": null,
   "outputs": [],
   "source": [
    "import torch"
   ],
   "metadata": {
    "collapsed": false,
    "pycharm": {
     "name": "#%%\n"
    }
   }
  },
  {
   "cell_type": "markdown",
   "source": [
    "### 张量的创建\n",
    "\n",
    "   1. arange(n) 函数类似python原来的 range(n)，创建一个张量，其元素是从0到n-1的整数，其形状为(1, n)\n",
    "   2. zeros((a1, a2, a3, ...)) 创建一个元素全为0的张量，其形状为(a1, a2, a3, ...)\n",
    "   3. ones((a1, a2, a3, ...)) 创建一个元素全为1的张量，其形状为(a1, a2, a3, ...)\n",
    "   4. rand((a1, a2, a3, ...)) 创建一个元素随机的张量，取值范围为[0, 1)，其形状为(a1, a2, a3, ...)\n",
    "   5. randn((a1, a2, a3, ...)) 创建一个元素均值为0，方差为1的正态分布张量，其形状为(a1, a2, a3, ...)\n",
    "   6. tensor(arr) 通过python的列表类型，创建一个张量"
   ],
   "metadata": {
    "collapsed": false
   }
  },
  {
   "cell_type": "code",
   "execution_count": null,
   "outputs": [],
   "source": [
    "x = torch.arange(12)\n",
    "y = torch.zeros((3, 4))\n",
    "z = torch.ones((2, 3, 4))\n",
    "w = torch.rand((2, 3, 4))\n",
    "v = torch.randn((2, 3, 4))\n",
    "u = torch.tensor([[1, 2, 3], [4, 5, 6]])"
   ],
   "metadata": {
    "collapsed": false,
    "pycharm": {
     "name": "#%%\n"
    }
   }
  },
  {
   "cell_type": "code",
   "execution_count": null,
   "outputs": [],
   "source": [
    "print(\"x =\", x)\n",
    "print(\"y =\", y)\n",
    "print(\"z =\", z)\n",
    "print(\"w =\", w)\n",
    "print(\"v =\", v)\n",
    "print(\"u =\", u)"
   ],
   "metadata": {
    "collapsed": false,
    "pycharm": {
     "name": "#%%\n"
    }
   }
  },
  {
   "cell_type": "markdown",
   "source": [
    "### 张量的操作\n",
    "\n",
    "   1. shape 函数返回张量的形状\n",
    "   2. size() 函数返回张量的形状\n",
    "   3. reshape(a1, a2, a3, ...) 函数返回一个新的张量，其形状为指定的形状，形状为(a1, a2, a3, ...)\n",
    "   4. sum() 对张量中的所有元素进行求和，会产生一个单元素张量\n",
    "   5. numpy() 将张量转化为NumPy张量\n",
    "   6. item() 将张量转化为python的数字 或者 python原本的float(x) int(x)也可以转化为python的数字"
   ],
   "metadata": {
    "collapsed": false
   }
  },
  {
   "cell_type": "code",
   "execution_count": null,
   "outputs": [],
   "source": [
    "print(\"x.shape =\", x.shape)\n",
    "print(\"x.size() =\", x.size())\n",
    "print(\"x.reshape(2, 6) =\", x.reshape(2, 6))\n",
    "print(\"x.sum() =\", x.sum())\n"
   ],
   "metadata": {
    "collapsed": false,
    "pycharm": {
     "name": "#%%\n"
    }
   }
  },
  {
   "cell_type": "markdown",
   "source": [
    "## 2.1.2 运算符"
   ],
   "metadata": {
    "collapsed": false
   }
  },
  {
   "cell_type": "markdown",
   "source": [
    "### 按元素计算\n",
    "1. \\+ 按元素求和\n",
    "2. \\- 按元素求差\n",
    "3. \\* 按元素求积\n",
    "4. \\/ 按元素求商\n",
    "5. ** 按元素求幂\n",
    "6. \\% 按元素求余\n",
    "7. exp() 按元素求e的指数\n",
    "8. == 按元素判断是否相等"
   ],
   "metadata": {
    "collapsed": false
   }
  },
  {
   "cell_type": "code",
   "execution_count": null,
   "outputs": [],
   "source": [
    "x = torch.tensor([1.0, 2, 4, 8])\n",
    "y = torch.tensor([2, 2, 2, 2])\n",
    "x + y, x - y, x * y, x / y, x ** y, x % y, torch.exp(x), x == y"
   ],
   "metadata": {
    "collapsed": false,
    "pycharm": {
     "name": "#%%\n"
    }
   }
  },
  {
   "cell_type": "markdown",
   "source": [
    "### 张量的连结\n",
    "1. torch.cat((X, Y), dim = 0) 将X和Y连结在一起，维度为0，即按行连结, 需要除了第0维度的其他形状相同\n",
    "2. torch.cat((X, Y), dim = 1) 将X和Y连结在一起，维度为1，即按列连结, 需要除了第1维度的其他形状相同"
   ],
   "metadata": {
    "collapsed": false
   }
  },
  {
   "cell_type": "code",
   "execution_count": null,
   "outputs": [],
   "source": [
    "X = torch.arange(12, dtype=torch.float32).reshape(3, 4)\n",
    "Y = torch.tensor([[2.0, 1, 4, 3], [1, 2, 3, 4], [4, 3, 2, 1]])\n",
    "torch.cat((X, Y), dim=0), torch.cat((X, Y), dim=1)"
   ],
   "metadata": {
    "collapsed": false,
    "pycharm": {
     "name": "#%%\n"
    }
   }
  },
  {
   "cell_type": "markdown",
   "source": [
    "### 2.1.3 广播机制\n",
    "当两个张量的形状不同时，可以通过广播机制，将其中一个张量的形状转换成另一个张量的形状"
   ],
   "metadata": {
    "collapsed": false
   }
  },
  {
   "cell_type": "code",
   "execution_count": null,
   "outputs": [],
   "source": [
    "a = torch.arange(3).reshape((3, 1))\n",
    "b = torch.arange(2).reshape((1, 2))\n",
    "a + b"
   ],
   "metadata": {
    "collapsed": false,
    "pycharm": {
     "name": "#%%\n"
    }
   }
  },
  {
   "cell_type": "markdown",
   "source": [
    "如上所示，a + b 实际上的求的是 [[0, 0], [1, 1], [2, 2]] 和 [[0, 1], [0, 1], [0, 1]]的和，他就是将张量a和b广播到对应的形状，能够广播的前提是a,b的形状在逻辑上可一通过复制扩充达到形状一致"
   ],
   "metadata": {
    "collapsed": false
   }
  },
  {
   "cell_type": "markdown",
   "source": [
    "### 2.1.4 索引和切片\n",
    "torch的索引与python索引机制一致，这里记录一些常用操作\n",
    "1. X[-1] 在第一维选择最后一个元素\n",
    "2. X[1:3] 在第一维选择下标[1, 3)的连续元素\n",
    "3. X[1:3, 2:4] 在第一维选择索引[1,3)的元素，在第二维选择索引为[2,4)的元素\n",
    "4. X[1, 2, ...] = n 修改张量里具体位置的值"
   ],
   "metadata": {
    "collapsed": false
   }
  },
  {
   "cell_type": "code",
   "execution_count": null,
   "outputs": [],
   "source": [
    "X = torch.arange(20).reshape(4, 5)"
   ],
   "metadata": {
    "collapsed": false,
    "pycharm": {
     "name": "#%%\n"
    }
   }
  },
  {
   "cell_type": "code",
   "execution_count": null,
   "outputs": [],
   "source": [
    "X, X[-1], X[1:3], X[1:3, 2:4], X[1, 2]"
   ],
   "metadata": {
    "collapsed": false,
    "pycharm": {
     "name": "#%%\n"
    }
   }
  },
  {
   "cell_type": "markdown",
   "source": [
    "### 2.1.5 节省内存的操作\n",
    "如果使用Y=X+Y这种运算方法的话，会导致额外的内存分配，通常使用Y[:]=X+Y 或 Y += X 来减少内存开销"
   ],
   "metadata": {
    "collapsed": false
   }
  },
  {
   "cell_type": "code",
   "execution_count": null,
   "outputs": [],
   "source": [
    "X = torch.arange(12).reshape(3, 4)\n",
    "Y = torch.arange(12).reshape(3, 4)\n",
    "Z = torch.zeros_like(Y)\n",
    "print('id(Z):',id(Z))\n",
    "Z[:] = X + Y\n",
    "print('id(Z):',id(Z))"
   ],
   "metadata": {
    "collapsed": false,
    "pycharm": {
     "name": "#%%\n"
    }
   }
  },
  {
   "cell_type": "code",
   "execution_count": null,
   "outputs": [],
   "source": [
    "Z = X + Y\n",
    "print('id(Z):',id(Z))"
   ],
   "metadata": {
    "collapsed": false,
    "pycharm": {
     "name": "#%%\n"
    }
   }
  },
  {
   "cell_type": "code",
   "execution_count": null,
   "outputs": [],
   "source": [
    "print('id(Y):', id(Y))\n",
    "Y += X\n",
    "print('id(Y):', id(Y))"
   ],
   "metadata": {
    "collapsed": false,
    "pycharm": {
     "name": "#%%\n"
    }
   }
  },
  {
   "cell_type": "markdown",
   "source": [
    "## 2.2 数据预处理"
   ],
   "metadata": {
    "collapsed": false
   }
  },
  {
   "cell_type": "markdown",
   "source": [
    "### 读取数据集\n",
    "首先创建一个人工数据集"
   ],
   "metadata": {
    "collapsed": false
   }
  },
  {
   "cell_type": "code",
   "execution_count": null,
   "outputs": [],
   "source": [
    "import os\n",
    "\n",
    "os.makedirs(os.path.join('.', 'data'), exist_ok=True)\n",
    "data_file = os.path.join('.', 'data', 'house_tiny.csv')\n",
    "with open(data_file, 'w') as f:\n",
    "    f.write('NumRooms,Alley,Price\\n')  #列名\n",
    "    f.write('NA,Pave,127500\\n')  #每行表示一个数据样本\n",
    "    f.write('2,NA,106000\\n')\n",
    "    f.write('4,NA,178100\\n')\n",
    "    f.write('NA,NA,140000\\n')"
   ],
   "metadata": {
    "collapsed": false,
    "pycharm": {
     "name": "#%%\n"
    }
   }
  },
  {
   "cell_type": "markdown",
   "source": [
    "通过pandas 来读取csv文件"
   ],
   "metadata": {
    "collapsed": false
   }
  },
  {
   "cell_type": "code",
   "execution_count": null,
   "outputs": [],
   "source": [
    "import pandas as pd\n",
    "\n",
    "data = pd.read_csv(data_file)\n",
    "print(data)"
   ],
   "metadata": {
    "collapsed": false,
    "pycharm": {
     "name": "#%%\n"
    }
   }
  },
  {
   "cell_type": "markdown",
   "source": [
    "处理缺省值，将平均值复制到NaN的元素中"
   ],
   "metadata": {
    "collapsed": false
   }
  },
  {
   "cell_type": "code",
   "execution_count": null,
   "outputs": [],
   "source": [
    "inputs, outputs = data.iloc[:, 0:2], data.iloc[:, 2]\n",
    "inputs = inputs.fillna(inputs.mean())\n",
    "print(inputs)"
   ],
   "metadata": {
    "collapsed": false,
    "pycharm": {
     "name": "#%%\n"
    }
   }
  },
  {
   "cell_type": "markdown",
   "source": [
    "将Alley中的NaN 转化为两个标签，Alley_Pave, Alley_nan"
   ],
   "metadata": {
    "collapsed": false
   }
  },
  {
   "cell_type": "code",
   "execution_count": null,
   "outputs": [],
   "source": [
    "inputs = pd.get_dummies(inputs, dummy_na=True)\n",
    "print(inputs)"
   ],
   "metadata": {
    "collapsed": false,
    "pycharm": {
     "name": "#%%\n"
    }
   }
  },
  {
   "cell_type": "markdown",
   "source": [
    "再将input转化为张量的格式"
   ],
   "metadata": {
    "collapsed": false
   }
  },
  {
   "cell_type": "code",
   "execution_count": null,
   "outputs": [],
   "source": [
    "import torch\n",
    "X, y = torch.tensor(inputs.values), torch.tensor(outputs.values)\n",
    "X, y"
   ],
   "metadata": {
    "collapsed": false,
    "pycharm": {
     "name": "#%%\n"
    }
   }
  },
  {
   "cell_type": "markdown",
   "source": [
    "## 2.3 线性代数"
   ],
   "metadata": {
    "collapsed": false
   }
  },
  {
   "cell_type": "markdown",
   "source": [
    "### 标量"
   ],
   "metadata": {
    "collapsed": false
   }
  },
  {
   "cell_type": "code",
   "execution_count": 1,
   "outputs": [
    {
     "data": {
      "text/plain": "(tensor(5.), tensor(6.), tensor(1.5000), tensor(9.))"
     },
     "execution_count": 1,
     "metadata": {},
     "output_type": "execute_result"
    }
   ],
   "source": [
    "import torch\n",
    "\n",
    "x = torch.tensor(3.0)\n",
    "y = torch.tensor(2.0)\n",
    "x + y, x * y, x / y, x ** y"
   ],
   "metadata": {
    "collapsed": false,
    "pycharm": {
     "name": "#%%\n"
    }
   }
  },
  {
   "cell_type": "markdown",
   "source": [
    "### 向量"
   ],
   "metadata": {
    "collapsed": false
   }
  },
  {
   "cell_type": "code",
   "execution_count": 2,
   "outputs": [
    {
     "data": {
      "text/plain": "tensor([0, 1, 2, 3])"
     },
     "execution_count": 2,
     "metadata": {},
     "output_type": "execute_result"
    }
   ],
   "source": [
    "x = torch.arange(4)\n",
    "x"
   ],
   "metadata": {
    "collapsed": false,
    "pycharm": {
     "name": "#%%\n"
    }
   }
  },
  {
   "cell_type": "code",
   "execution_count": 3,
   "outputs": [
    {
     "data": {
      "text/plain": "tensor(3)"
     },
     "execution_count": 3,
     "metadata": {},
     "output_type": "execute_result"
    }
   ],
   "source": [
    "x[3]"
   ],
   "metadata": {
    "collapsed": false,
    "pycharm": {
     "name": "#%%\n"
    }
   }
  },
  {
   "cell_type": "code",
   "execution_count": 4,
   "outputs": [
    {
     "data": {
      "text/plain": "4"
     },
     "execution_count": 4,
     "metadata": {},
     "output_type": "execute_result"
    }
   ],
   "source": [
    "len(x)"
   ],
   "metadata": {
    "collapsed": false,
    "pycharm": {
     "name": "#%%\n"
    }
   }
  },
  {
   "cell_type": "code",
   "execution_count": 5,
   "outputs": [
    {
     "data": {
      "text/plain": "torch.Size([4])"
     },
     "execution_count": 5,
     "metadata": {},
     "output_type": "execute_result"
    }
   ],
   "source": [
    "x.shape"
   ],
   "metadata": {
    "collapsed": false,
    "pycharm": {
     "name": "#%%\n"
    }
   }
  },
  {
   "cell_type": "markdown",
   "source": [
    "### 矩阵"
   ],
   "metadata": {
    "collapsed": false
   }
  },
  {
   "cell_type": "code",
   "execution_count": 6,
   "outputs": [
    {
     "data": {
      "text/plain": "tensor([[ 0,  1,  2,  3],\n        [ 4,  5,  6,  7],\n        [ 8,  9, 10, 11],\n        [12, 13, 14, 15],\n        [16, 17, 18, 19]])"
     },
     "execution_count": 6,
     "metadata": {},
     "output_type": "execute_result"
    }
   ],
   "source": [
    "A = torch.arange(20).reshape(5, 4)\n",
    "A"
   ],
   "metadata": {
    "collapsed": false,
    "pycharm": {
     "name": "#%%\n"
    }
   }
  },
  {
   "cell_type": "markdown",
   "source": [
    "转置运算, 如果转置与原矩阵相同，则称为对称矩阵"
   ],
   "metadata": {
    "collapsed": false
   }
  },
  {
   "cell_type": "code",
   "execution_count": 7,
   "outputs": [
    {
     "data": {
      "text/plain": "tensor([[ 0,  4,  8, 12, 16],\n        [ 1,  5,  9, 13, 17],\n        [ 2,  6, 10, 14, 18],\n        [ 3,  7, 11, 15, 19]])"
     },
     "execution_count": 7,
     "metadata": {},
     "output_type": "execute_result"
    }
   ],
   "source": [
    "A.T"
   ],
   "metadata": {
    "collapsed": false,
    "pycharm": {
     "name": "#%%\n"
    }
   }
  },
  {
   "cell_type": "markdown",
   "source": [
    "### 张量"
   ],
   "metadata": {
    "collapsed": false
   }
  },
  {
   "cell_type": "code",
   "execution_count": 8,
   "outputs": [
    {
     "data": {
      "text/plain": "tensor([[[ 0,  1,  2,  3],\n         [ 4,  5,  6,  7],\n         [ 8,  9, 10, 11]],\n\n        [[12, 13, 14, 15],\n         [16, 17, 18, 19],\n         [20, 21, 22, 23]]])"
     },
     "execution_count": 8,
     "metadata": {},
     "output_type": "execute_result"
    }
   ],
   "source": [
    "X = torch.arange(24).reshape(2, 3, 4)\n",
    "X"
   ],
   "metadata": {
    "collapsed": false,
    "pycharm": {
     "name": "#%%\n"
    }
   }
  },
  {
   "cell_type": "markdown",
   "source": [
    "### 张量的运算的本质"
   ],
   "metadata": {
    "collapsed": false
   }
  },
  {
   "cell_type": "code",
   "execution_count": 9,
   "outputs": [
    {
     "data": {
      "text/plain": "(tensor([[ 0.,  1.,  2.,  3.],\n         [ 4.,  5.,  6.,  7.],\n         [ 8.,  9., 10., 11.],\n         [12., 13., 14., 15.],\n         [16., 17., 18., 19.]]),\n tensor([[ 0.,  2.,  4.,  6.],\n         [ 8., 10., 12., 14.],\n         [16., 18., 20., 22.],\n         [24., 26., 28., 30.],\n         [32., 34., 36., 38.]]))"
     },
     "execution_count": 9,
     "metadata": {},
     "output_type": "execute_result"
    }
   ],
   "source": [
    "A = torch.arange(20, dtype=torch.float32).reshape(5, 4)\n",
    "B = A.clone()  #通过分配新内存，将A的一个副本分配给B\n",
    "A, A + B"
   ],
   "metadata": {
    "collapsed": false,
    "pycharm": {
     "name": "#%%\n"
    }
   }
  },
  {
   "cell_type": "markdown",
   "source": [
    "矩阵按元素相乘（Hadamard积）"
   ],
   "metadata": {
    "collapsed": false
   }
  },
  {
   "cell_type": "code",
   "execution_count": 10,
   "outputs": [
    {
     "data": {
      "text/plain": "tensor([[  0.,   1.,   4.,   9.],\n        [ 16.,  25.,  36.,  49.],\n        [ 64.,  81., 100., 121.],\n        [144., 169., 196., 225.],\n        [256., 289., 324., 361.]])"
     },
     "execution_count": 10,
     "metadata": {},
     "output_type": "execute_result"
    }
   ],
   "source": [
    "A * B"
   ],
   "metadata": {
    "collapsed": false,
    "pycharm": {
     "name": "#%%\n"
    }
   }
  },
  {
   "cell_type": "markdown",
   "source": [
    "将张量乘以或加上一个标量不会改变张量的形状，其中张量的每个元素都将与标量相加或相乘。"
   ],
   "metadata": {
    "collapsed": false
   }
  },
  {
   "cell_type": "code",
   "execution_count": 11,
   "outputs": [
    {
     "data": {
      "text/plain": "(tensor([[[ 2,  3,  4,  5],\n          [ 6,  7,  8,  9],\n          [10, 11, 12, 13]],\n \n         [[14, 15, 16, 17],\n          [18, 19, 20, 21],\n          [22, 23, 24, 25]]]),\n torch.Size([2, 3, 4]))"
     },
     "execution_count": 11,
     "metadata": {},
     "output_type": "execute_result"
    }
   ],
   "source": [
    "a = 2\n",
    "X = torch.arange(24).reshape(2, 3, 4)\n",
    "a + X, (a * X).shape"
   ],
   "metadata": {
    "collapsed": false,
    "pycharm": {
     "name": "#%%\n"
    }
   }
  },
  {
   "cell_type": "markdown",
   "source": [
    "### 降维\n",
    "1. sum(axis = n) 对张量的第n维求和\n",
    "2. sum(axis = [d1, d2, ...]) 对张量的第d1, d2, ...维求和\n",
    "3. mean(axis = n) 对张量的第n维元素求平均值\n",
    "4. mean(axis = [d1, d2, ...]) 对张量的第d1, d2, ...维元素求平均值\n",
    "5. A.sum()/A.numel() 求平均的另一种手段"
   ],
   "metadata": {
    "collapsed": false
   }
  },
  {
   "cell_type": "code",
   "execution_count": 32,
   "outputs": [
    {
     "data": {
      "text/plain": "(tensor([[[ 0.,  1.,  2.,  3.],\n          [ 4.,  5.,  6.,  7.],\n          [ 8.,  9., 10., 11.]],\n \n         [[12., 13., 14., 15.],\n          [16., 17., 18., 19.],\n          [20., 21., 22., 23.]]]),\n tensor([ 60.,  92., 124.]))"
     },
     "execution_count": 32,
     "metadata": {},
     "output_type": "execute_result"
    }
   ],
   "source": [
    "A = torch.arange(24, dtype=torch.float32).resize(2, 3, 4)\n",
    "A, A.sum(axis=[0, 2])"
   ],
   "metadata": {
    "collapsed": false,
    "pycharm": {
     "name": "#%%\n"
    }
   }
  },
  {
   "cell_type": "code",
   "execution_count": 37,
   "outputs": [
    {
     "data": {
      "text/plain": "tensor([ 7.5000, 11.5000, 15.5000])"
     },
     "execution_count": 37,
     "metadata": {},
     "output_type": "execute_result"
    }
   ],
   "source": [
    "A.mean(axis=[0, 2])"
   ],
   "metadata": {
    "collapsed": false,
    "pycharm": {
     "name": "#%%\n"
    }
   }
  },
  {
   "cell_type": "markdown",
   "source": [
    "### 非降维求和\n",
    "1. A.sum(axis=1, keepdims=True)\n",
    "2. A.cumsum(axis=n) 按某个轴累计求和"
   ],
   "metadata": {
    "collapsed": false
   }
  },
  {
   "cell_type": "code",
   "execution_count": 52,
   "outputs": [
    {
     "data": {
      "text/plain": "(tensor([[[ 0.,  1.,  2.,  3.],\n          [ 4.,  5.,  6.,  7.],\n          [ 8.,  9., 10., 11.]],\n \n         [[12., 13., 14., 15.],\n          [16., 17., 18., 19.],\n          [20., 21., 22., 23.]]]),\n tensor([[[12., 15., 18., 21.]],\n \n         [[48., 51., 54., 57.]]]),\n tensor([[[0.0000, 0.0667, 0.1111, 0.1429],\n          [0.3333, 0.3333, 0.3333, 0.3333],\n          [0.6667, 0.6000, 0.5556, 0.5238]],\n \n         [[0.2500, 0.2549, 0.2593, 0.2632],\n          [0.3333, 0.3333, 0.3333, 0.3333],\n          [0.4167, 0.4118, 0.4074, 0.4035]]]))"
     },
     "execution_count": 52,
     "metadata": {},
     "output_type": "execute_result"
    }
   ],
   "source": [
    "A, A.sum(axis=1, keepdims=True), A / A.sum(axis=1, keepdims=True)"
   ],
   "metadata": {
    "collapsed": false,
    "pycharm": {
     "name": "#%%\n"
    }
   }
  },
  {
   "cell_type": "code",
   "execution_count": 60,
   "outputs": [
    {
     "data": {
      "text/plain": "(tensor([[[ 0.,  1.,  2.,  3.],\n          [ 4.,  5.,  6.,  7.],\n          [ 8.,  9., 10., 11.]],\n \n         [[12., 13., 14., 15.],\n          [16., 17., 18., 19.],\n          [20., 21., 22., 23.]]]),\n tensor([[[ 0.,  1.,  2.,  3.],\n          [ 4.,  5.,  6.,  7.],\n          [ 8.,  9., 10., 11.]],\n \n         [[12., 14., 16., 18.],\n          [20., 22., 24., 26.],\n          [28., 30., 32., 34.]]]))"
     },
     "execution_count": 60,
     "metadata": {},
     "output_type": "execute_result"
    }
   ],
   "source": [
    "A, A.cumsum(axis=0)"
   ],
   "metadata": {
    "collapsed": false,
    "pycharm": {
     "name": "#%%\n"
    }
   }
  },
  {
   "cell_type": "markdown",
   "source": [
    "### 张量的数学运算"
   ],
   "metadata": {
    "collapsed": false
   }
  },
  {
   "cell_type": "markdown",
   "source": [
    "向量-向量 点积"
   ],
   "metadata": {
    "collapsed": false
   }
  },
  {
   "cell_type": "code",
   "execution_count": 66,
   "outputs": [
    {
     "data": {
      "text/plain": "tensor(14)"
     },
     "execution_count": 66,
     "metadata": {},
     "output_type": "execute_result"
    }
   ],
   "source": [
    "x = torch.arange(4)\n",
    "y = torch.arange(4)\n",
    "x.dot(y)"
   ],
   "metadata": {
    "collapsed": false,
    "pycharm": {
     "name": "#%%\n"
    }
   }
  },
  {
   "cell_type": "code",
   "execution_count": 67,
   "outputs": [
    {
     "data": {
      "text/plain": "tensor(14)"
     },
     "execution_count": 67,
     "metadata": {},
     "output_type": "execute_result"
    }
   ],
   "source": [
    "torch.sum(x*y)"
   ],
   "metadata": {
    "collapsed": false,
    "pycharm": {
     "name": "#%%\n"
    }
   }
  },
  {
   "cell_type": "markdown",
   "source": [
    "矩阵-向量积"
   ],
   "metadata": {
    "collapsed": false
   }
  },
  {
   "cell_type": "code",
   "execution_count": 73,
   "outputs": [
    {
     "data": {
      "text/plain": "(tensor([[ 0,  1,  2,  3],\n         [ 4,  5,  6,  7],\n         [ 8,  9, 10, 11],\n         [12, 13, 14, 15],\n         [16, 17, 18, 19]]),\n tensor([0, 1, 2, 3]),\n tensor([ 14,  38,  62,  86, 110]))"
     },
     "execution_count": 73,
     "metadata": {},
     "output_type": "execute_result"
    }
   ],
   "source": [
    "A = torch.arange(20).reshape(5, 4)\n",
    "x = torch.arange(4)\n",
    "A, x, torch.mv(A, x)"
   ],
   "metadata": {
    "collapsed": false,
    "pycharm": {
     "name": "#%%\n"
    }
   }
  },
  {
   "cell_type": "markdown",
   "source": [
    "矩阵-矩阵积"
   ],
   "metadata": {
    "collapsed": false
   }
  },
  {
   "cell_type": "code",
   "execution_count": 74,
   "outputs": [
    {
     "data": {
      "text/plain": "tensor([[ 42,  48,  54],\n        [114, 136, 158],\n        [186, 224, 262],\n        [258, 312, 366],\n        [330, 400, 470]])"
     },
     "execution_count": 74,
     "metadata": {},
     "output_type": "execute_result"
    }
   ],
   "source": [
    "A = torch.arange(20).reshape(5, 4)\n",
    "B = torch.arange(12).reshape(4, 3)\n",
    "torch.mm(A, B)"
   ],
   "metadata": {
    "collapsed": false,
    "pycharm": {
     "name": "#%%\n"
    }
   }
  },
  {
   "cell_type": "code",
   "execution_count": 76,
   "outputs": [
    {
     "data": {
      "text/plain": "tensor([[  0,   1,   4,   9],\n        [ 16,  25,  36,  49],\n        [ 64,  81, 100, 121],\n        [144, 169, 196, 225],\n        [256, 289, 324, 361]])"
     },
     "execution_count": 76,
     "metadata": {},
     "output_type": "execute_result"
    }
   ],
   "source": [
    "A = torch.arange(20).reshape(5, 4)\n",
    "B = torch.arange(20).reshape(5, 4)\n",
    "A * B"
   ],
   "metadata": {
    "collapsed": false,
    "pycharm": {
     "name": "#%%\n"
    }
   }
  },
  {
   "cell_type": "markdown",
   "source": [
    "向量的l1范数 绝对值之和"
   ],
   "metadata": {
    "collapsed": false
   }
  },
  {
   "cell_type": "code",
   "execution_count": 80,
   "outputs": [
    {
     "data": {
      "text/plain": "tensor(10.)"
     },
     "execution_count": 80,
     "metadata": {},
     "output_type": "execute_result"
    }
   ],
   "source": [
    "x = torch.arange(5, dtype=torch.float32)\n",
    "torch.abs(x).sum()"
   ],
   "metadata": {
    "collapsed": false,
    "pycharm": {
     "name": "#%%\n"
    }
   }
  },
  {
   "cell_type": "markdown",
   "source": [
    "向量的l2范数 元素平方和的平方根"
   ],
   "metadata": {
    "collapsed": false
   }
  },
  {
   "cell_type": "code",
   "execution_count": 81,
   "outputs": [
    {
     "data": {
      "text/plain": "tensor(5.4772)"
     },
     "execution_count": 81,
     "metadata": {},
     "output_type": "execute_result"
    }
   ],
   "source": [
    "torch.norm(x)"
   ],
   "metadata": {
    "collapsed": false,
    "pycharm": {
     "name": "#%%\n"
    }
   }
  },
  {
   "cell_type": "markdown",
   "source": [
    "矩阵的Frobenius范数"
   ],
   "metadata": {
    "collapsed": false
   }
  },
  {
   "cell_type": "code",
   "execution_count": 84,
   "outputs": [
    {
     "data": {
      "text/plain": "tensor(49.6991)"
     },
     "execution_count": 84,
     "metadata": {},
     "output_type": "execute_result"
    }
   ],
   "source": [
    "A = torch.arange(20, dtype=torch.float32).reshape(5, 4)\n",
    "torch.norm(A)"
   ],
   "metadata": {
    "collapsed": false,
    "pycharm": {
     "name": "#%%\n"
    }
   }
  },
  {
   "cell_type": "markdown",
   "source": [
    "## 2.4 微积分"
   ],
   "metadata": {
    "collapsed": false
   }
  },
  {
   "cell_type": "markdown",
   "source": [
    "手动求导，并绘制图形"
   ],
   "metadata": {
    "collapsed": false
   }
  },
  {
   "cell_type": "code",
   "execution_count": 1,
   "outputs": [],
   "source": [
    "import numpy as np\n",
    "import torch\n",
    "from matplotlib import pyplot as plt\n",
    "from IPython import display"
   ],
   "metadata": {
    "collapsed": false,
    "pycharm": {
     "name": "#%%\n"
    }
   }
  },
  {
   "cell_type": "code",
   "execution_count": 2,
   "outputs": [],
   "source": [
    "def f(x):\n",
    "    return 3 * x ** 2 - 4 * x"
   ],
   "metadata": {
    "collapsed": false,
    "pycharm": {
     "name": "#%%\n"
    }
   }
  },
  {
   "cell_type": "code",
   "execution_count": 10,
   "outputs": [],
   "source": [
    "def numerical_diff(f, x, h=1e-4):\n",
    "    return (f(x + h) - f(x - h)) / (2 * h)"
   ],
   "metadata": {
    "collapsed": false,
    "pycharm": {
     "name": "#%%\n"
    }
   }
  },
  {
   "cell_type": "code",
   "execution_count": 13,
   "outputs": [
    {
     "name": "stdout",
     "output_type": "stream",
     "text": [
      "h = 0.10000, numerical_diff = 2.00000\n",
      "h = 0.01000, numerical_diff = 2.00000\n",
      "h = 0.00100, numerical_diff = 2.00000\n",
      "h = 0.00010, numerical_diff = 2.00000\n",
      "h = 0.00001, numerical_diff = 2.00000\n"
     ]
    }
   ],
   "source": [
    "h = 0.1\n",
    "for i in range(5):\n",
    "    print(f'h = {h:.5f}, numerical_diff = {numerical_diff(f, 1, h):.5f}')\n",
    "    h *= 0.1"
   ],
   "metadata": {
    "collapsed": false,
    "pycharm": {
     "name": "#%%\n"
    }
   }
  },
  {
   "cell_type": "code",
   "execution_count": 20,
   "outputs": [],
   "source": [
    "def use_svg_display():\n",
    "    display.set_matplotlib_formats('svg')\n",
    "\n",
    "\n",
    "def set_figsize(figsize=(3.5, 2.5)):\n",
    "    use_svg_display()\n",
    "    plt.rcParams['figure.figsize'] = figsize\n",
    "\n",
    "\n",
    "def set_axes(axes, xlabel, ylabel, xlim, ylim, xscale, yscale, legend):\n",
    "    axes.set_xlabel(xlabel)\n",
    "    axes.set_ylabel(ylabel)\n",
    "    axes.set_xscale(xscale)\n",
    "    axes.set_yscale(yscale)\n",
    "    axes.set_xlim(xlim)\n",
    "    axes.set_ylim(ylim)\n",
    "    if legend:\n",
    "        axes.legend(legend)\n",
    "    axes.grid()\n"
   ],
   "metadata": {
    "collapsed": false,
    "pycharm": {
     "name": "#%%\n"
    }
   }
  },
  {
   "cell_type": "code",
   "execution_count": 18,
   "outputs": [],
   "source": [
    "def plot(X, Y=None, xlabel=None, ylabel=None, legend=None,\n",
    "         xlim=None, ylim=None, xscale='linear', yscale='linear',\n",
    "         fmts=('-', 'm--', 'g-.', 'r:'), figsize=(3.5, 2.5), axes=None):\n",
    "    if legend is None:\n",
    "        legend = []\n",
    "\n",
    "    set_figsize(figsize)\n",
    "    axes = axes if axes else plt.gca()\n",
    "\n",
    "    def has_one_axis(X):\n",
    "        return hasattr(X, \"ndim\") and X.ndim == 1 or isinstance(X, list) and not hasattr(X[0], \"__len__\")\n",
    "\n",
    "    if has_one_axis(X):\n",
    "        X = [X]\n",
    "    if Y is None:\n",
    "        X, Y = [[]] * len(X), X\n",
    "    elif has_one_axis(Y):\n",
    "        Y = [Y]\n",
    "    if len(X) != len(Y):\n",
    "        X = X * len(Y)\n",
    "    axes.cla()\n",
    "    for x, y, fmt in zip(X, Y, fmts):\n",
    "        if len(x):\n",
    "            axes.plot(x, y, fmt)\n",
    "        else:\n",
    "            axes.plot(y ,fmt)\n",
    "    set_axes(axes, xlabel, ylabel, xlim, ylim, xscale, yscale, legend)"
   ],
   "metadata": {
    "collapsed": false,
    "pycharm": {
     "name": "#%%\n"
    }
   }
  },
  {
   "cell_type": "code",
   "execution_count": 21,
   "outputs": [
    {
     "name": "stderr",
     "output_type": "stream",
     "text": [
      "C:\\Users\\Ailurus\\AppData\\Local\\Temp/ipykernel_19212/1478813556.py:2: DeprecationWarning: `set_matplotlib_formats` is deprecated since IPython 7.23, directly use `matplotlib_inline.backend_inline.set_matplotlib_formats()`\n",
      "  display.set_matplotlib_formats('svg')\n"
     ]
    },
    {
     "data": {
      "text/plain": "<Figure size 252x180 with 1 Axes>",
      "image/svg+xml": "<?xml version=\"1.0\" encoding=\"utf-8\" standalone=\"no\"?>\n<!DOCTYPE svg PUBLIC \"-//W3C//DTD SVG 1.1//EN\"\n  \"http://www.w3.org/Graphics/SVG/1.1/DTD/svg11.dtd\">\n<svg xmlns:xlink=\"http://www.w3.org/1999/xlink\" width=\"243.529359pt\" height=\"180.65625pt\" viewBox=\"0 0 243.529359 180.65625\" xmlns=\"http://www.w3.org/2000/svg\" version=\"1.1\">\n <metadata>\n  <rdf:RDF xmlns:dc=\"http://purl.org/dc/elements/1.1/\" xmlns:cc=\"http://creativecommons.org/ns#\" xmlns:rdf=\"http://www.w3.org/1999/02/22-rdf-syntax-ns#\">\n   <cc:Work>\n    <dc:type rdf:resource=\"http://purl.org/dc/dcmitype/StillImage\"/>\n    <dc:date>2022-02-25T11:22:14.546529</dc:date>\n    <dc:format>image/svg+xml</dc:format>\n    <dc:creator>\n     <cc:Agent>\n      <dc:title>Matplotlib v3.5.1, https://matplotlib.org/</dc:title>\n     </cc:Agent>\n    </dc:creator>\n   </cc:Work>\n  </rdf:RDF>\n </metadata>\n <defs>\n  <style type=\"text/css\">*{stroke-linejoin: round; stroke-linecap: butt}</style>\n </defs>\n <g id=\"figure_1\">\n  <g id=\"patch_1\">\n   <path d=\"M 0 180.65625 \nL 243.529359 180.65625 \nL 243.529359 0 \nL 0 0 \nL 0 180.65625 \nz\n\" style=\"fill: none\"/>\n  </g>\n  <g id=\"axes_1\">\n   <g id=\"patch_2\">\n    <path d=\"M 40.603125 143.1 \nL 235.903125 143.1 \nL 235.903125 7.2 \nL 40.603125 7.2 \nz\n\" style=\"fill: #ffffff\"/>\n   </g>\n   <g id=\"matplotlib.axis_1\">\n    <g id=\"xtick_1\">\n     <g id=\"line2d_1\">\n      <path d=\"M 49.480398 143.1 \nL 49.480398 7.2 \n\" clip-path=\"url(#p301ffd63ff)\" style=\"fill: none; stroke: #b0b0b0; stroke-width: 0.8; stroke-linecap: square\"/>\n     </g>\n     <g id=\"line2d_2\">\n      <defs>\n       <path id=\"m2e547cb219\" d=\"M 0 0 \nL 0 3.5 \n\" style=\"stroke: #000000; stroke-width: 0.8\"/>\n      </defs>\n      <g>\n       <use xlink:href=\"#m2e547cb219\" x=\"49.480398\" y=\"143.1\" style=\"stroke: #000000; stroke-width: 0.8\"/>\n      </g>\n     </g>\n     <g id=\"text_1\">\n      <!-- 0 -->\n      <g transform=\"translate(46.299148 157.698438)scale(0.1 -0.1)\">\n       <defs>\n        <path id=\"DejaVuSans-30\" d=\"M 2034 4250 \nQ 1547 4250 1301 3770 \nQ 1056 3291 1056 2328 \nQ 1056 1369 1301 889 \nQ 1547 409 2034 409 \nQ 2525 409 2770 889 \nQ 3016 1369 3016 2328 \nQ 3016 3291 2770 3770 \nQ 2525 4250 2034 4250 \nz\nM 2034 4750 \nQ 2819 4750 3233 4129 \nQ 3647 3509 3647 2328 \nQ 3647 1150 3233 529 \nQ 2819 -91 2034 -91 \nQ 1250 -91 836 529 \nQ 422 1150 422 2328 \nQ 422 3509 836 4129 \nQ 1250 4750 2034 4750 \nz\n\" transform=\"scale(0.015625)\"/>\n       </defs>\n       <use xlink:href=\"#DejaVuSans-30\"/>\n      </g>\n     </g>\n    </g>\n    <g id=\"xtick_2\">\n     <g id=\"line2d_3\">\n      <path d=\"M 110.702968 143.1 \nL 110.702968 7.2 \n\" clip-path=\"url(#p301ffd63ff)\" style=\"fill: none; stroke: #b0b0b0; stroke-width: 0.8; stroke-linecap: square\"/>\n     </g>\n     <g id=\"line2d_4\">\n      <g>\n       <use xlink:href=\"#m2e547cb219\" x=\"110.702968\" y=\"143.1\" style=\"stroke: #000000; stroke-width: 0.8\"/>\n      </g>\n     </g>\n     <g id=\"text_2\">\n      <!-- 1 -->\n      <g transform=\"translate(107.521718 157.698438)scale(0.1 -0.1)\">\n       <defs>\n        <path id=\"DejaVuSans-31\" d=\"M 794 531 \nL 1825 531 \nL 1825 4091 \nL 703 3866 \nL 703 4441 \nL 1819 4666 \nL 2450 4666 \nL 2450 531 \nL 3481 531 \nL 3481 0 \nL 794 0 \nL 794 531 \nz\n\" transform=\"scale(0.015625)\"/>\n       </defs>\n       <use xlink:href=\"#DejaVuSans-31\"/>\n      </g>\n     </g>\n    </g>\n    <g id=\"xtick_3\">\n     <g id=\"line2d_5\">\n      <path d=\"M 171.925539 143.1 \nL 171.925539 7.2 \n\" clip-path=\"url(#p301ffd63ff)\" style=\"fill: none; stroke: #b0b0b0; stroke-width: 0.8; stroke-linecap: square\"/>\n     </g>\n     <g id=\"line2d_6\">\n      <g>\n       <use xlink:href=\"#m2e547cb219\" x=\"171.925539\" y=\"143.1\" style=\"stroke: #000000; stroke-width: 0.8\"/>\n      </g>\n     </g>\n     <g id=\"text_3\">\n      <!-- 2 -->\n      <g transform=\"translate(168.744289 157.698438)scale(0.1 -0.1)\">\n       <defs>\n        <path id=\"DejaVuSans-32\" d=\"M 1228 531 \nL 3431 531 \nL 3431 0 \nL 469 0 \nL 469 531 \nQ 828 903 1448 1529 \nQ 2069 2156 2228 2338 \nQ 2531 2678 2651 2914 \nQ 2772 3150 2772 3378 \nQ 2772 3750 2511 3984 \nQ 2250 4219 1831 4219 \nQ 1534 4219 1204 4116 \nQ 875 4013 500 3803 \nL 500 4441 \nQ 881 4594 1212 4672 \nQ 1544 4750 1819 4750 \nQ 2544 4750 2975 4387 \nQ 3406 4025 3406 3419 \nQ 3406 3131 3298 2873 \nQ 3191 2616 2906 2266 \nQ 2828 2175 2409 1742 \nQ 1991 1309 1228 531 \nz\n\" transform=\"scale(0.015625)\"/>\n       </defs>\n       <use xlink:href=\"#DejaVuSans-32\"/>\n      </g>\n     </g>\n    </g>\n    <g id=\"xtick_4\">\n     <g id=\"line2d_7\">\n      <path d=\"M 233.148109 143.1 \nL 233.148109 7.2 \n\" clip-path=\"url(#p301ffd63ff)\" style=\"fill: none; stroke: #b0b0b0; stroke-width: 0.8; stroke-linecap: square\"/>\n     </g>\n     <g id=\"line2d_8\">\n      <g>\n       <use xlink:href=\"#m2e547cb219\" x=\"233.148109\" y=\"143.1\" style=\"stroke: #000000; stroke-width: 0.8\"/>\n      </g>\n     </g>\n     <g id=\"text_4\">\n      <!-- 3 -->\n      <g transform=\"translate(229.966859 157.698438)scale(0.1 -0.1)\">\n       <defs>\n        <path id=\"DejaVuSans-33\" d=\"M 2597 2516 \nQ 3050 2419 3304 2112 \nQ 3559 1806 3559 1356 \nQ 3559 666 3084 287 \nQ 2609 -91 1734 -91 \nQ 1441 -91 1130 -33 \nQ 819 25 488 141 \nL 488 750 \nQ 750 597 1062 519 \nQ 1375 441 1716 441 \nQ 2309 441 2620 675 \nQ 2931 909 2931 1356 \nQ 2931 1769 2642 2001 \nQ 2353 2234 1838 2234 \nL 1294 2234 \nL 1294 2753 \nL 1863 2753 \nQ 2328 2753 2575 2939 \nQ 2822 3125 2822 3475 \nQ 2822 3834 2567 4026 \nQ 2313 4219 1838 4219 \nQ 1578 4219 1281 4162 \nQ 984 4106 628 3988 \nL 628 4550 \nQ 988 4650 1302 4700 \nQ 1616 4750 1894 4750 \nQ 2613 4750 3031 4423 \nQ 3450 4097 3450 3541 \nQ 3450 3153 3228 2886 \nQ 3006 2619 2597 2516 \nz\n\" transform=\"scale(0.015625)\"/>\n       </defs>\n       <use xlink:href=\"#DejaVuSans-33\"/>\n      </g>\n     </g>\n    </g>\n    <g id=\"text_5\">\n     <!-- x -->\n     <g transform=\"translate(135.29375 171.376563)scale(0.1 -0.1)\">\n      <defs>\n       <path id=\"DejaVuSans-78\" d=\"M 3513 3500 \nL 2247 1797 \nL 3578 0 \nL 2900 0 \nL 1881 1375 \nL 863 0 \nL 184 0 \nL 1544 1831 \nL 300 3500 \nL 978 3500 \nL 1906 2253 \nL 2834 3500 \nL 3513 3500 \nz\n\" transform=\"scale(0.015625)\"/>\n      </defs>\n      <use xlink:href=\"#DejaVuSans-78\"/>\n     </g>\n    </g>\n   </g>\n   <g id=\"matplotlib.axis_2\">\n    <g id=\"ytick_1\">\n     <g id=\"line2d_9\">\n      <path d=\"M 40.603125 114.635514 \nL 235.903125 114.635514 \n\" clip-path=\"url(#p301ffd63ff)\" style=\"fill: none; stroke: #b0b0b0; stroke-width: 0.8; stroke-linecap: square\"/>\n     </g>\n     <g id=\"line2d_10\">\n      <defs>\n       <path id=\"m9791f79790\" d=\"M 0 0 \nL -3.5 0 \n\" style=\"stroke: #000000; stroke-width: 0.8\"/>\n      </defs>\n      <g>\n       <use xlink:href=\"#m9791f79790\" x=\"40.603125\" y=\"114.635514\" style=\"stroke: #000000; stroke-width: 0.8\"/>\n      </g>\n     </g>\n     <g id=\"text_6\">\n      <!-- 0 -->\n      <g transform=\"translate(27.240625 118.434732)scale(0.1 -0.1)\">\n       <use xlink:href=\"#DejaVuSans-30\"/>\n      </g>\n     </g>\n    </g>\n    <g id=\"ytick_2\">\n     <g id=\"line2d_11\">\n      <path d=\"M 40.603125 77.490157 \nL 235.903125 77.490157 \n\" clip-path=\"url(#p301ffd63ff)\" style=\"fill: none; stroke: #b0b0b0; stroke-width: 0.8; stroke-linecap: square\"/>\n     </g>\n     <g id=\"line2d_12\">\n      <g>\n       <use xlink:href=\"#m9791f79790\" x=\"40.603125\" y=\"77.490157\" style=\"stroke: #000000; stroke-width: 0.8\"/>\n      </g>\n     </g>\n     <g id=\"text_7\">\n      <!-- 5 -->\n      <g transform=\"translate(27.240625 81.289376)scale(0.1 -0.1)\">\n       <defs>\n        <path id=\"DejaVuSans-35\" d=\"M 691 4666 \nL 3169 4666 \nL 3169 4134 \nL 1269 4134 \nL 1269 2991 \nQ 1406 3038 1543 3061 \nQ 1681 3084 1819 3084 \nQ 2600 3084 3056 2656 \nQ 3513 2228 3513 1497 \nQ 3513 744 3044 326 \nQ 2575 -91 1722 -91 \nQ 1428 -91 1123 -41 \nQ 819 9 494 109 \nL 494 744 \nQ 775 591 1075 516 \nQ 1375 441 1709 441 \nQ 2250 441 2565 725 \nQ 2881 1009 2881 1497 \nQ 2881 1984 2565 2268 \nQ 2250 2553 1709 2553 \nQ 1456 2553 1204 2497 \nQ 953 2441 691 2322 \nL 691 4666 \nz\n\" transform=\"scale(0.015625)\"/>\n       </defs>\n       <use xlink:href=\"#DejaVuSans-35\"/>\n      </g>\n     </g>\n    </g>\n    <g id=\"ytick_3\">\n     <g id=\"line2d_13\">\n      <path d=\"M 40.603125 40.344801 \nL 235.903125 40.344801 \n\" clip-path=\"url(#p301ffd63ff)\" style=\"fill: none; stroke: #b0b0b0; stroke-width: 0.8; stroke-linecap: square\"/>\n     </g>\n     <g id=\"line2d_14\">\n      <g>\n       <use xlink:href=\"#m9791f79790\" x=\"40.603125\" y=\"40.344801\" style=\"stroke: #000000; stroke-width: 0.8\"/>\n      </g>\n     </g>\n     <g id=\"text_8\">\n      <!-- 10 -->\n      <g transform=\"translate(20.878125 44.14402)scale(0.1 -0.1)\">\n       <use xlink:href=\"#DejaVuSans-31\"/>\n       <use xlink:href=\"#DejaVuSans-30\" x=\"63.623047\"/>\n      </g>\n     </g>\n    </g>\n    <g id=\"text_9\">\n     <!-- f(x) -->\n     <g transform=\"translate(14.798437 83.771094)rotate(-90)scale(0.1 -0.1)\">\n      <defs>\n       <path id=\"DejaVuSans-66\" d=\"M 2375 4863 \nL 2375 4384 \nL 1825 4384 \nQ 1516 4384 1395 4259 \nQ 1275 4134 1275 3809 \nL 1275 3500 \nL 2222 3500 \nL 2222 3053 \nL 1275 3053 \nL 1275 0 \nL 697 0 \nL 697 3053 \nL 147 3053 \nL 147 3500 \nL 697 3500 \nL 697 3744 \nQ 697 4328 969 4595 \nQ 1241 4863 1831 4863 \nL 2375 4863 \nz\n\" transform=\"scale(0.015625)\"/>\n       <path id=\"DejaVuSans-28\" d=\"M 1984 4856 \nQ 1566 4138 1362 3434 \nQ 1159 2731 1159 2009 \nQ 1159 1288 1364 580 \nQ 1569 -128 1984 -844 \nL 1484 -844 \nQ 1016 -109 783 600 \nQ 550 1309 550 2009 \nQ 550 2706 781 3412 \nQ 1013 4119 1484 4856 \nL 1984 4856 \nz\n\" transform=\"scale(0.015625)\"/>\n       <path id=\"DejaVuSans-29\" d=\"M 513 4856 \nL 1013 4856 \nQ 1481 4119 1714 3412 \nQ 1947 2706 1947 2009 \nQ 1947 1309 1714 600 \nQ 1481 -109 1013 -844 \nL 513 -844 \nQ 928 -128 1133 580 \nQ 1338 1288 1338 2009 \nQ 1338 2731 1133 3434 \nQ 928 4138 513 4856 \nz\n\" transform=\"scale(0.015625)\"/>\n      </defs>\n      <use xlink:href=\"#DejaVuSans-66\"/>\n      <use xlink:href=\"#DejaVuSans-28\" x=\"35.205078\"/>\n      <use xlink:href=\"#DejaVuSans-78\" x=\"74.21875\"/>\n      <use xlink:href=\"#DejaVuSans-29\" x=\"133.398438\"/>\n     </g>\n    </g>\n   </g>\n   <g id=\"line2d_15\">\n    <path d=\"M 49.480398 114.635514 \nL 55.602655 117.38427 \nL 61.724912 119.687282 \nL 67.847169 121.54455 \nL 73.969426 122.956073 \nL 80.091683 123.921853 \nL 86.21394 124.441888 \nL 92.336197 124.516178 \nL 98.458454 124.144725 \nL 104.580711 123.327527 \nL 110.702968 122.064585 \nL 116.825225 120.355898 \nL 122.947482 118.201468 \nL 129.069739 115.601293 \nL 135.191996 112.555374 \nL 141.314254 109.06371 \nL 147.436511 105.126302 \nL 153.558768 100.74315 \nL 159.681025 95.914254 \nL 165.803282 90.639614 \nL 171.925539 84.919229 \nL 178.047796 78.7531 \nL 184.170053 72.141226 \nL 190.29231 65.083608 \nL 196.414567 57.580247 \nL 202.536824 49.63114 \nL 208.659081 41.23629 \nL 214.781338 32.395695 \nL 220.903595 23.109356 \nL 227.025852 13.377273 \n\" clip-path=\"url(#p301ffd63ff)\" style=\"fill: none; stroke: #1f77b4; stroke-width: 1.5; stroke-linecap: square\"/>\n   </g>\n   <g id=\"line2d_16\">\n    <path d=\"M 49.480398 136.922727 \nL 55.602655 135.436913 \nL 61.724912 133.951099 \nL 67.847169 132.465285 \nL 73.969426 130.97947 \nL 80.091683 129.493656 \nL 86.21394 128.007842 \nL 92.336197 126.522028 \nL 98.458454 125.036213 \nL 104.580711 123.550399 \nL 110.702968 122.064585 \nL 116.825225 120.578771 \nL 122.947482 119.092956 \nL 129.069739 117.607142 \nL 135.191996 116.121328 \nL 141.314254 114.635514 \nL 147.436511 113.149699 \nL 153.558768 111.663885 \nL 159.681025 110.178071 \nL 165.803282 108.692257 \nL 171.925539 107.206442 \nL 178.047796 105.720628 \nL 184.170053 104.234814 \nL 190.29231 102.749 \nL 196.414567 101.263185 \nL 202.536824 99.777371 \nL 208.659081 98.291557 \nL 214.781338 96.805743 \nL 220.903595 95.319928 \nL 227.025852 93.834114 \n\" clip-path=\"url(#p301ffd63ff)\" style=\"fill: none; stroke-dasharray: 5.55,2.4; stroke-dashoffset: 0; stroke: #bf00bf; stroke-width: 1.5\"/>\n   </g>\n   <g id=\"patch_3\">\n    <path d=\"M 40.603125 143.1 \nL 40.603125 7.2 \n\" style=\"fill: none; stroke: #000000; stroke-width: 0.8; stroke-linejoin: miter; stroke-linecap: square\"/>\n   </g>\n   <g id=\"patch_4\">\n    <path d=\"M 235.903125 143.1 \nL 235.903125 7.2 \n\" style=\"fill: none; stroke: #000000; stroke-width: 0.8; stroke-linejoin: miter; stroke-linecap: square\"/>\n   </g>\n   <g id=\"patch_5\">\n    <path d=\"M 40.603125 143.1 \nL 235.903125 143.1 \n\" style=\"fill: none; stroke: #000000; stroke-width: 0.8; stroke-linejoin: miter; stroke-linecap: square\"/>\n   </g>\n   <g id=\"patch_6\">\n    <path d=\"M 40.603125 7.2 \nL 235.903125 7.2 \n\" style=\"fill: none; stroke: #000000; stroke-width: 0.8; stroke-linejoin: miter; stroke-linecap: square\"/>\n   </g>\n   <g id=\"legend_1\">\n    <g id=\"patch_7\">\n     <path d=\"M 47.603125 44.55625 \nL 172.153125 44.55625 \nQ 174.153125 44.55625 174.153125 42.55625 \nL 174.153125 14.2 \nQ 174.153125 12.2 172.153125 12.2 \nL 47.603125 12.2 \nQ 45.603125 12.2 45.603125 14.2 \nL 45.603125 42.55625 \nQ 45.603125 44.55625 47.603125 44.55625 \nz\n\" style=\"fill: #ffffff; opacity: 0.8; stroke: #cccccc; stroke-linejoin: miter\"/>\n    </g>\n    <g id=\"line2d_17\">\n     <path d=\"M 49.603125 20.298437 \nL 59.603125 20.298437 \nL 69.603125 20.298437 \n\" style=\"fill: none; stroke: #1f77b4; stroke-width: 1.5; stroke-linecap: square\"/>\n    </g>\n    <g id=\"text_10\">\n     <!-- f(x) -->\n     <g transform=\"translate(77.603125 23.798437)scale(0.1 -0.1)\">\n      <use xlink:href=\"#DejaVuSans-66\"/>\n      <use xlink:href=\"#DejaVuSans-28\" x=\"35.205078\"/>\n      <use xlink:href=\"#DejaVuSans-78\" x=\"74.21875\"/>\n      <use xlink:href=\"#DejaVuSans-29\" x=\"133.398438\"/>\n     </g>\n    </g>\n    <g id=\"line2d_18\">\n     <path d=\"M 49.603125 34.976562 \nL 59.603125 34.976562 \nL 69.603125 34.976562 \n\" style=\"fill: none; stroke-dasharray: 5.55,2.4; stroke-dashoffset: 0; stroke: #bf00bf; stroke-width: 1.5\"/>\n    </g>\n    <g id=\"text_11\">\n     <!-- Tangent line (x=1) -->\n     <g transform=\"translate(77.603125 38.476562)scale(0.1 -0.1)\">\n      <defs>\n       <path id=\"DejaVuSans-54\" d=\"M -19 4666 \nL 3928 4666 \nL 3928 4134 \nL 2272 4134 \nL 2272 0 \nL 1638 0 \nL 1638 4134 \nL -19 4134 \nL -19 4666 \nz\n\" transform=\"scale(0.015625)\"/>\n       <path id=\"DejaVuSans-61\" d=\"M 2194 1759 \nQ 1497 1759 1228 1600 \nQ 959 1441 959 1056 \nQ 959 750 1161 570 \nQ 1363 391 1709 391 \nQ 2188 391 2477 730 \nQ 2766 1069 2766 1631 \nL 2766 1759 \nL 2194 1759 \nz\nM 3341 1997 \nL 3341 0 \nL 2766 0 \nL 2766 531 \nQ 2569 213 2275 61 \nQ 1981 -91 1556 -91 \nQ 1019 -91 701 211 \nQ 384 513 384 1019 \nQ 384 1609 779 1909 \nQ 1175 2209 1959 2209 \nL 2766 2209 \nL 2766 2266 \nQ 2766 2663 2505 2880 \nQ 2244 3097 1772 3097 \nQ 1472 3097 1187 3025 \nQ 903 2953 641 2809 \nL 641 3341 \nQ 956 3463 1253 3523 \nQ 1550 3584 1831 3584 \nQ 2591 3584 2966 3190 \nQ 3341 2797 3341 1997 \nz\n\" transform=\"scale(0.015625)\"/>\n       <path id=\"DejaVuSans-6e\" d=\"M 3513 2113 \nL 3513 0 \nL 2938 0 \nL 2938 2094 \nQ 2938 2591 2744 2837 \nQ 2550 3084 2163 3084 \nQ 1697 3084 1428 2787 \nQ 1159 2491 1159 1978 \nL 1159 0 \nL 581 0 \nL 581 3500 \nL 1159 3500 \nL 1159 2956 \nQ 1366 3272 1645 3428 \nQ 1925 3584 2291 3584 \nQ 2894 3584 3203 3211 \nQ 3513 2838 3513 2113 \nz\n\" transform=\"scale(0.015625)\"/>\n       <path id=\"DejaVuSans-67\" d=\"M 2906 1791 \nQ 2906 2416 2648 2759 \nQ 2391 3103 1925 3103 \nQ 1463 3103 1205 2759 \nQ 947 2416 947 1791 \nQ 947 1169 1205 825 \nQ 1463 481 1925 481 \nQ 2391 481 2648 825 \nQ 2906 1169 2906 1791 \nz\nM 3481 434 \nQ 3481 -459 3084 -895 \nQ 2688 -1331 1869 -1331 \nQ 1566 -1331 1297 -1286 \nQ 1028 -1241 775 -1147 \nL 775 -588 \nQ 1028 -725 1275 -790 \nQ 1522 -856 1778 -856 \nQ 2344 -856 2625 -561 \nQ 2906 -266 2906 331 \nL 2906 616 \nQ 2728 306 2450 153 \nQ 2172 0 1784 0 \nQ 1141 0 747 490 \nQ 353 981 353 1791 \nQ 353 2603 747 3093 \nQ 1141 3584 1784 3584 \nQ 2172 3584 2450 3431 \nQ 2728 3278 2906 2969 \nL 2906 3500 \nL 3481 3500 \nL 3481 434 \nz\n\" transform=\"scale(0.015625)\"/>\n       <path id=\"DejaVuSans-65\" d=\"M 3597 1894 \nL 3597 1613 \nL 953 1613 \nQ 991 1019 1311 708 \nQ 1631 397 2203 397 \nQ 2534 397 2845 478 \nQ 3156 559 3463 722 \nL 3463 178 \nQ 3153 47 2828 -22 \nQ 2503 -91 2169 -91 \nQ 1331 -91 842 396 \nQ 353 884 353 1716 \nQ 353 2575 817 3079 \nQ 1281 3584 2069 3584 \nQ 2775 3584 3186 3129 \nQ 3597 2675 3597 1894 \nz\nM 3022 2063 \nQ 3016 2534 2758 2815 \nQ 2500 3097 2075 3097 \nQ 1594 3097 1305 2825 \nQ 1016 2553 972 2059 \nL 3022 2063 \nz\n\" transform=\"scale(0.015625)\"/>\n       <path id=\"DejaVuSans-74\" d=\"M 1172 4494 \nL 1172 3500 \nL 2356 3500 \nL 2356 3053 \nL 1172 3053 \nL 1172 1153 \nQ 1172 725 1289 603 \nQ 1406 481 1766 481 \nL 2356 481 \nL 2356 0 \nL 1766 0 \nQ 1100 0 847 248 \nQ 594 497 594 1153 \nL 594 3053 \nL 172 3053 \nL 172 3500 \nL 594 3500 \nL 594 4494 \nL 1172 4494 \nz\n\" transform=\"scale(0.015625)\"/>\n       <path id=\"DejaVuSans-20\" transform=\"scale(0.015625)\"/>\n       <path id=\"DejaVuSans-6c\" d=\"M 603 4863 \nL 1178 4863 \nL 1178 0 \nL 603 0 \nL 603 4863 \nz\n\" transform=\"scale(0.015625)\"/>\n       <path id=\"DejaVuSans-69\" d=\"M 603 3500 \nL 1178 3500 \nL 1178 0 \nL 603 0 \nL 603 3500 \nz\nM 603 4863 \nL 1178 4863 \nL 1178 4134 \nL 603 4134 \nL 603 4863 \nz\n\" transform=\"scale(0.015625)\"/>\n       <path id=\"DejaVuSans-3d\" d=\"M 678 2906 \nL 4684 2906 \nL 4684 2381 \nL 678 2381 \nL 678 2906 \nz\nM 678 1631 \nL 4684 1631 \nL 4684 1100 \nL 678 1100 \nL 678 1631 \nz\n\" transform=\"scale(0.015625)\"/>\n      </defs>\n      <use xlink:href=\"#DejaVuSans-54\"/>\n      <use xlink:href=\"#DejaVuSans-61\" x=\"44.583984\"/>\n      <use xlink:href=\"#DejaVuSans-6e\" x=\"105.863281\"/>\n      <use xlink:href=\"#DejaVuSans-67\" x=\"169.242188\"/>\n      <use xlink:href=\"#DejaVuSans-65\" x=\"232.71875\"/>\n      <use xlink:href=\"#DejaVuSans-6e\" x=\"294.242188\"/>\n      <use xlink:href=\"#DejaVuSans-74\" x=\"357.621094\"/>\n      <use xlink:href=\"#DejaVuSans-20\" x=\"396.830078\"/>\n      <use xlink:href=\"#DejaVuSans-6c\" x=\"428.617188\"/>\n      <use xlink:href=\"#DejaVuSans-69\" x=\"456.400391\"/>\n      <use xlink:href=\"#DejaVuSans-6e\" x=\"484.183594\"/>\n      <use xlink:href=\"#DejaVuSans-65\" x=\"547.5625\"/>\n      <use xlink:href=\"#DejaVuSans-20\" x=\"609.085938\"/>\n      <use xlink:href=\"#DejaVuSans-28\" x=\"640.873047\"/>\n      <use xlink:href=\"#DejaVuSans-78\" x=\"679.886719\"/>\n      <use xlink:href=\"#DejaVuSans-3d\" x=\"739.066406\"/>\n      <use xlink:href=\"#DejaVuSans-31\" x=\"822.855469\"/>\n      <use xlink:href=\"#DejaVuSans-29\" x=\"886.478516\"/>\n     </g>\n    </g>\n   </g>\n  </g>\n </g>\n <defs>\n  <clipPath id=\"p301ffd63ff\">\n   <rect x=\"40.603125\" y=\"7.2\" width=\"195.3\" height=\"135.9\"/>\n  </clipPath>\n </defs>\n</svg>\n"
     },
     "metadata": {
      "needs_background": "light"
     },
     "output_type": "display_data"
    }
   ],
   "source": [
    "x = np.arange(0.0, 3.0, 0.1)\n",
    "plot(x, [f(x), 2*x-3], 'x', 'f(x)', legend=['f(x)', 'Tangent line (x=1)'])"
   ],
   "metadata": {
    "collapsed": false,
    "pycharm": {
     "name": "#%%\n"
    }
   }
  },
  {
   "cell_type": "markdown",
   "source": [
    "## 2.5 自动微分"
   ],
   "metadata": {
    "collapsed": false
   }
  },
  {
   "cell_type": "markdown",
   "source": [
    "### 标量的反向传播\n",
    "\n",
    "利用 torch 的内置函数计算梯度，eg: 求 $y = 2x^Tx$ 在 x = [0, 1, 2, 3] 的梯度"
   ],
   "metadata": {
    "collapsed": false
   }
  },
  {
   "cell_type": "code",
   "execution_count": 5,
   "outputs": [],
   "source": [
    "import torch\n",
    "\n",
    "x = torch.arange(4.)\n",
    "\n",
    "x.requires_grad_(True)\n",
    "x.grad"
   ],
   "metadata": {
    "collapsed": false,
    "pycharm": {
     "name": "#%%\n"
    }
   }
  },
  {
   "cell_type": "code",
   "execution_count": 8,
   "outputs": [
    {
     "data": {
      "text/plain": "tensor([ 0.,  4.,  8., 12.])"
     },
     "execution_count": 8,
     "metadata": {},
     "output_type": "execute_result"
    }
   ],
   "source": [
    "x.grad.zero_()\n",
    "y = 2 * torch.dot(x, x)\n",
    "y.backward()\n",
    "x.grad"
   ],
   "metadata": {
    "collapsed": false,
    "pycharm": {
     "name": "#%%\n"
    }
   }
  },
  {
   "cell_type": "markdown",
   "source": [
    "在torch创建张量时，添加参数 requires_grad = True 则表明该张量需要求梯度\n",
    "通过 y.backward() 这个反向传播函数，来计算出y关于x每一个分量的梯度"
   ],
   "metadata": {
    "collapsed": false
   }
  },
  {
   "cell_type": "markdown",
   "source": [
    "### 非标量变量的反向传播\n",
    "当y不是标量时，向量y关于向量x的导数的最自然解释是一个矩阵。对于高阶和高维的y和x，求导的结果可以是一个高阶张量。"
   ],
   "metadata": {
    "collapsed": false
   }
  },
  {
   "cell_type": "code",
   "execution_count": 11,
   "outputs": [
    {
     "data": {
      "text/plain": "tensor([0., 2., 4., 6.])"
     },
     "execution_count": 11,
     "metadata": {},
     "output_type": "execute_result"
    }
   ],
   "source": [
    "x.grad.zero_()\n",
    "y = x * x\n",
    "y.sum().backward()\n",
    "x.grad"
   ],
   "metadata": {
    "collapsed": false,
    "pycharm": {
     "name": "#%%\n"
    }
   }
  },
  {
   "cell_type": "markdown",
   "source": [
    "### 分离计算\n",
    "有时，我们希望将某些计算移动到记录的计算图之外。例如，假设y是作为x的函数计算的，而z则是作为y和x的函数计算的。想象一下，我们想计算z关于x的梯度，但由于某种原因，我们希望将y视为一个常数，并且只考虑到x在y被计算后发挥的作用。"
   ],
   "metadata": {
    "collapsed": false
   }
  },
  {
   "cell_type": "code",
   "execution_count": 13,
   "outputs": [
    {
     "data": {
      "text/plain": "tensor([0., 1., 4., 9.])"
     },
     "execution_count": 13,
     "metadata": {},
     "output_type": "execute_result"
    }
   ],
   "source": [
    "x.grad.zero_()\n",
    "y = x * x\n",
    "u = y.detach()\n",
    "z = u * x\n",
    "\n",
    "z.sum().backward()\n",
    "x.grad"
   ],
   "metadata": {
    "collapsed": false,
    "pycharm": {
     "name": "#%%\n"
    }
   }
  },
  {
   "cell_type": "code",
   "execution_count": 14,
   "outputs": [
    {
     "data": {
      "text/plain": "tensor([0., 2., 4., 6.])"
     },
     "execution_count": 14,
     "metadata": {},
     "output_type": "execute_result"
    }
   ],
   "source": [
    "x.grad.zero_()\n",
    "y.sum().backward()\n",
    "x.grad"
   ],
   "metadata": {
    "collapsed": false,
    "pycharm": {
     "name": "#%%\n"
    }
   }
  },
  {
   "cell_type": "code",
   "execution_count": 20,
   "outputs": [
    {
     "data": {
      "text/plain": "(tensor(0.0824, requires_grad=True), tensor(16384.), tensor(True))"
     },
     "execution_count": 20,
     "metadata": {},
     "output_type": "execute_result"
    }
   ],
   "source": [
    "def f(a):\n",
    "    b = a * 2\n",
    "    while b.norm() < 1000:\n",
    "        b = b * 2\n",
    "    if b.sum() > 0:\n",
    "        c = b\n",
    "    else:\n",
    "        c = 100 * b\n",
    "    return c\n",
    "\n",
    "a = torch.randn(size=(), requires_grad=True)\n",
    "d = f(a)\n",
    "d.backward()\n",
    "a, a.grad, a.grad == d/a\n"
   ],
   "metadata": {
    "collapsed": false,
    "pycharm": {
     "name": "#%%\n"
    }
   }
  },
  {
   "cell_type": "code",
   "execution_count": 7,
   "outputs": [],
   "source": [
    "%matplotlib inline\n",
    "import torch\n",
    "from torch.distributions import multinomial\n",
    "from d2l import torch as d2l\n",
    "from matplotlib import pyplot as plt"
   ],
   "metadata": {
    "collapsed": false,
    "pycharm": {
     "name": "#%%\n"
    }
   }
  },
  {
   "cell_type": "markdown",
   "source": [
    "在统计学中，我们把从概率分布中抽取样本的过程称为抽样（sampling）。笼统来说，可以把分布（distribution）看作是对事件的概率分配，稍后我们将给出的更正式定义。将概率分配给一些离散选择的分布称为多项分布（multinomial distribution）。为了抽取一个样本，即掷骰子，我们只需传入一个概率向量。输出是另一个相同⻓度的向量：它在索引i处的值是采样结果中i出现的次数。"
   ],
   "metadata": {
    "collapsed": false
   }
  },
  {
   "cell_type": "code",
   "execution_count": 3,
   "outputs": [
    {
     "data": {
      "text/plain": "tensor([1., 0., 0., 0., 0., 0.])"
     },
     "execution_count": 3,
     "metadata": {},
     "output_type": "execute_result"
    }
   ],
   "source": [
    "fair_probs = torch.ones([6])/6\n",
    "multinomial.Multinomial(1, fair_probs).sample()"
   ],
   "metadata": {
    "collapsed": false,
    "pycharm": {
     "name": "#%%\n"
    }
   }
  },
  {
   "cell_type": "code",
   "execution_count": 4,
   "outputs": [
    {
     "data": {
      "text/plain": "tensor([1., 2., 2., 2., 1., 2.])"
     },
     "execution_count": 4,
     "metadata": {},
     "output_type": "execute_result"
    }
   ],
   "source": [
    "multinomial.Multinomial(10, fair_probs).sample()"
   ],
   "metadata": {
    "collapsed": false,
    "pycharm": {
     "name": "#%%\n"
    }
   }
  },
  {
   "cell_type": "code",
   "execution_count": 5,
   "outputs": [
    {
     "data": {
      "text/plain": "tensor([0.1650, 0.1550, 0.1640, 0.1720, 0.1620, 0.1820])"
     },
     "execution_count": 5,
     "metadata": {},
     "output_type": "execute_result"
    }
   ],
   "source": [
    "counts = multinomial.Multinomial(1000, fair_probs).sample()\n",
    "counts / 1000"
   ],
   "metadata": {
    "collapsed": false,
    "pycharm": {
     "name": "#%%\n"
    }
   }
  },
  {
   "cell_type": "code",
   "execution_count": 9,
   "outputs": [
    {
     "data": {
      "text/plain": "<matplotlib.legend.Legend at 0x1f65622b940>"
     },
     "execution_count": 9,
     "metadata": {},
     "output_type": "execute_result"
    },
    {
     "data": {
      "text/plain": "<Figure size 432x324 with 1 Axes>",
      "image/svg+xml": "<?xml version=\"1.0\" encoding=\"utf-8\" standalone=\"no\"?>\n<!DOCTYPE svg PUBLIC \"-//W3C//DTD SVG 1.1//EN\"\n  \"http://www.w3.org/Graphics/SVG/1.1/DTD/svg11.dtd\">\n<svg xmlns:xlink=\"http://www.w3.org/1999/xlink\" width=\"392.14375pt\" height=\"289.37625pt\" viewBox=\"0 0 392.14375 289.37625\" xmlns=\"http://www.w3.org/2000/svg\" version=\"1.1\">\n <metadata>\n  <rdf:RDF xmlns:dc=\"http://purl.org/dc/elements/1.1/\" xmlns:cc=\"http://creativecommons.org/ns#\" xmlns:rdf=\"http://www.w3.org/1999/02/22-rdf-syntax-ns#\">\n   <cc:Work>\n    <dc:type rdf:resource=\"http://purl.org/dc/dcmitype/StillImage\"/>\n    <dc:date>2022-02-25T15:33:44.846466</dc:date>\n    <dc:format>image/svg+xml</dc:format>\n    <dc:creator>\n     <cc:Agent>\n      <dc:title>Matplotlib v3.5.1, https://matplotlib.org/</dc:title>\n     </cc:Agent>\n    </dc:creator>\n   </cc:Work>\n  </rdf:RDF>\n </metadata>\n <defs>\n  <style type=\"text/css\">*{stroke-linejoin: round; stroke-linecap: butt}</style>\n </defs>\n <g id=\"figure_1\">\n  <g id=\"patch_1\">\n   <path d=\"M 0 289.37625 \nL 392.14375 289.37625 \nL 392.14375 0 \nL 0 0 \nL 0 289.37625 \nz\n\" style=\"fill: none\"/>\n  </g>\n  <g id=\"axes_1\">\n   <g id=\"patch_2\">\n    <path d=\"M 50.14375 251.82 \nL 384.94375 251.82 \nL 384.94375 7.2 \nL 50.14375 7.2 \nz\n\" style=\"fill: #ffffff\"/>\n   </g>\n   <g id=\"matplotlib.axis_1\">\n    <g id=\"xtick_1\">\n     <g id=\"line2d_1\">\n      <defs>\n       <path id=\"m7a4d8bf8eb\" d=\"M 0 0 \nL 0 3.5 \n\" style=\"stroke: #000000; stroke-width: 0.8\"/>\n      </defs>\n      <g>\n       <use xlink:href=\"#m7a4d8bf8eb\" x=\"65.361932\" y=\"251.82\" style=\"stroke: #000000; stroke-width: 0.8\"/>\n      </g>\n     </g>\n     <g id=\"text_1\">\n      <!-- 0 -->\n      <g transform=\"translate(62.180682 266.418437)scale(0.1 -0.1)\">\n       <defs>\n        <path id=\"DejaVuSans-30\" d=\"M 2034 4250 \nQ 1547 4250 1301 3770 \nQ 1056 3291 1056 2328 \nQ 1056 1369 1301 889 \nQ 1547 409 2034 409 \nQ 2525 409 2770 889 \nQ 3016 1369 3016 2328 \nQ 3016 3291 2770 3770 \nQ 2525 4250 2034 4250 \nz\nM 2034 4750 \nQ 2819 4750 3233 4129 \nQ 3647 3509 3647 2328 \nQ 3647 1150 3233 529 \nQ 2819 -91 2034 -91 \nQ 1250 -91 836 529 \nQ 422 1150 422 2328 \nQ 422 3509 836 4129 \nQ 1250 4750 2034 4750 \nz\n\" transform=\"scale(0.015625)\"/>\n       </defs>\n       <use xlink:href=\"#DejaVuSans-30\"/>\n      </g>\n     </g>\n    </g>\n    <g id=\"xtick_2\">\n     <g id=\"line2d_2\">\n      <g>\n       <use xlink:href=\"#m7a4d8bf8eb\" x=\"126.356649\" y=\"251.82\" style=\"stroke: #000000; stroke-width: 0.8\"/>\n      </g>\n     </g>\n     <g id=\"text_2\">\n      <!-- 100 -->\n      <g transform=\"translate(116.812899 266.418437)scale(0.1 -0.1)\">\n       <defs>\n        <path id=\"DejaVuSans-31\" d=\"M 794 531 \nL 1825 531 \nL 1825 4091 \nL 703 3866 \nL 703 4441 \nL 1819 4666 \nL 2450 4666 \nL 2450 531 \nL 3481 531 \nL 3481 0 \nL 794 0 \nL 794 531 \nz\n\" transform=\"scale(0.015625)\"/>\n       </defs>\n       <use xlink:href=\"#DejaVuSans-31\"/>\n       <use xlink:href=\"#DejaVuSans-30\" x=\"63.623047\"/>\n       <use xlink:href=\"#DejaVuSans-30\" x=\"127.246094\"/>\n      </g>\n     </g>\n    </g>\n    <g id=\"xtick_3\">\n     <g id=\"line2d_3\">\n      <g>\n       <use xlink:href=\"#m7a4d8bf8eb\" x=\"187.351365\" y=\"251.82\" style=\"stroke: #000000; stroke-width: 0.8\"/>\n      </g>\n     </g>\n     <g id=\"text_3\">\n      <!-- 200 -->\n      <g transform=\"translate(177.807615 266.418437)scale(0.1 -0.1)\">\n       <defs>\n        <path id=\"DejaVuSans-32\" d=\"M 1228 531 \nL 3431 531 \nL 3431 0 \nL 469 0 \nL 469 531 \nQ 828 903 1448 1529 \nQ 2069 2156 2228 2338 \nQ 2531 2678 2651 2914 \nQ 2772 3150 2772 3378 \nQ 2772 3750 2511 3984 \nQ 2250 4219 1831 4219 \nQ 1534 4219 1204 4116 \nQ 875 4013 500 3803 \nL 500 4441 \nQ 881 4594 1212 4672 \nQ 1544 4750 1819 4750 \nQ 2544 4750 2975 4387 \nQ 3406 4025 3406 3419 \nQ 3406 3131 3298 2873 \nQ 3191 2616 2906 2266 \nQ 2828 2175 2409 1742 \nQ 1991 1309 1228 531 \nz\n\" transform=\"scale(0.015625)\"/>\n       </defs>\n       <use xlink:href=\"#DejaVuSans-32\"/>\n       <use xlink:href=\"#DejaVuSans-30\" x=\"63.623047\"/>\n       <use xlink:href=\"#DejaVuSans-30\" x=\"127.246094\"/>\n      </g>\n     </g>\n    </g>\n    <g id=\"xtick_4\">\n     <g id=\"line2d_4\">\n      <g>\n       <use xlink:href=\"#m7a4d8bf8eb\" x=\"248.346082\" y=\"251.82\" style=\"stroke: #000000; stroke-width: 0.8\"/>\n      </g>\n     </g>\n     <g id=\"text_4\">\n      <!-- 300 -->\n      <g transform=\"translate(238.802332 266.418437)scale(0.1 -0.1)\">\n       <defs>\n        <path id=\"DejaVuSans-33\" d=\"M 2597 2516 \nQ 3050 2419 3304 2112 \nQ 3559 1806 3559 1356 \nQ 3559 666 3084 287 \nQ 2609 -91 1734 -91 \nQ 1441 -91 1130 -33 \nQ 819 25 488 141 \nL 488 750 \nQ 750 597 1062 519 \nQ 1375 441 1716 441 \nQ 2309 441 2620 675 \nQ 2931 909 2931 1356 \nQ 2931 1769 2642 2001 \nQ 2353 2234 1838 2234 \nL 1294 2234 \nL 1294 2753 \nL 1863 2753 \nQ 2328 2753 2575 2939 \nQ 2822 3125 2822 3475 \nQ 2822 3834 2567 4026 \nQ 2313 4219 1838 4219 \nQ 1578 4219 1281 4162 \nQ 984 4106 628 3988 \nL 628 4550 \nQ 988 4650 1302 4700 \nQ 1616 4750 1894 4750 \nQ 2613 4750 3031 4423 \nQ 3450 4097 3450 3541 \nQ 3450 3153 3228 2886 \nQ 3006 2619 2597 2516 \nz\n\" transform=\"scale(0.015625)\"/>\n       </defs>\n       <use xlink:href=\"#DejaVuSans-33\"/>\n       <use xlink:href=\"#DejaVuSans-30\" x=\"63.623047\"/>\n       <use xlink:href=\"#DejaVuSans-30\" x=\"127.246094\"/>\n      </g>\n     </g>\n    </g>\n    <g id=\"xtick_5\">\n     <g id=\"line2d_5\">\n      <g>\n       <use xlink:href=\"#m7a4d8bf8eb\" x=\"309.340799\" y=\"251.82\" style=\"stroke: #000000; stroke-width: 0.8\"/>\n      </g>\n     </g>\n     <g id=\"text_5\">\n      <!-- 400 -->\n      <g transform=\"translate(299.797049 266.418437)scale(0.1 -0.1)\">\n       <defs>\n        <path id=\"DejaVuSans-34\" d=\"M 2419 4116 \nL 825 1625 \nL 2419 1625 \nL 2419 4116 \nz\nM 2253 4666 \nL 3047 4666 \nL 3047 1625 \nL 3713 1625 \nL 3713 1100 \nL 3047 1100 \nL 3047 0 \nL 2419 0 \nL 2419 1100 \nL 313 1100 \nL 313 1709 \nL 2253 4666 \nz\n\" transform=\"scale(0.015625)\"/>\n       </defs>\n       <use xlink:href=\"#DejaVuSans-34\"/>\n       <use xlink:href=\"#DejaVuSans-30\" x=\"63.623047\"/>\n       <use xlink:href=\"#DejaVuSans-30\" x=\"127.246094\"/>\n      </g>\n     </g>\n    </g>\n    <g id=\"xtick_6\">\n     <g id=\"line2d_6\">\n      <g>\n       <use xlink:href=\"#m7a4d8bf8eb\" x=\"370.335515\" y=\"251.82\" style=\"stroke: #000000; stroke-width: 0.8\"/>\n      </g>\n     </g>\n     <g id=\"text_6\">\n      <!-- 500 -->\n      <g transform=\"translate(360.791765 266.418437)scale(0.1 -0.1)\">\n       <defs>\n        <path id=\"DejaVuSans-35\" d=\"M 691 4666 \nL 3169 4666 \nL 3169 4134 \nL 1269 4134 \nL 1269 2991 \nQ 1406 3038 1543 3061 \nQ 1681 3084 1819 3084 \nQ 2600 3084 3056 2656 \nQ 3513 2228 3513 1497 \nQ 3513 744 3044 326 \nQ 2575 -91 1722 -91 \nQ 1428 -91 1123 -41 \nQ 819 9 494 109 \nL 494 744 \nQ 775 591 1075 516 \nQ 1375 441 1709 441 \nQ 2250 441 2565 725 \nQ 2881 1009 2881 1497 \nQ 2881 1984 2565 2268 \nQ 2250 2553 1709 2553 \nQ 1456 2553 1204 2497 \nQ 953 2441 691 2322 \nL 691 4666 \nz\n\" transform=\"scale(0.015625)\"/>\n       </defs>\n       <use xlink:href=\"#DejaVuSans-35\"/>\n       <use xlink:href=\"#DejaVuSans-30\" x=\"63.623047\"/>\n       <use xlink:href=\"#DejaVuSans-30\" x=\"127.246094\"/>\n      </g>\n     </g>\n    </g>\n    <g id=\"text_7\">\n     <!-- Groups of experiments -->\n     <g transform=\"translate(160.397656 280.096562)scale(0.1 -0.1)\">\n      <defs>\n       <path id=\"DejaVuSans-47\" d=\"M 3809 666 \nL 3809 1919 \nL 2778 1919 \nL 2778 2438 \nL 4434 2438 \nL 4434 434 \nQ 4069 175 3628 42 \nQ 3188 -91 2688 -91 \nQ 1594 -91 976 548 \nQ 359 1188 359 2328 \nQ 359 3472 976 4111 \nQ 1594 4750 2688 4750 \nQ 3144 4750 3555 4637 \nQ 3966 4525 4313 4306 \nL 4313 3634 \nQ 3963 3931 3569 4081 \nQ 3175 4231 2741 4231 \nQ 1884 4231 1454 3753 \nQ 1025 3275 1025 2328 \nQ 1025 1384 1454 906 \nQ 1884 428 2741 428 \nQ 3075 428 3337 486 \nQ 3600 544 3809 666 \nz\n\" transform=\"scale(0.015625)\"/>\n       <path id=\"DejaVuSans-72\" d=\"M 2631 2963 \nQ 2534 3019 2420 3045 \nQ 2306 3072 2169 3072 \nQ 1681 3072 1420 2755 \nQ 1159 2438 1159 1844 \nL 1159 0 \nL 581 0 \nL 581 3500 \nL 1159 3500 \nL 1159 2956 \nQ 1341 3275 1631 3429 \nQ 1922 3584 2338 3584 \nQ 2397 3584 2469 3576 \nQ 2541 3569 2628 3553 \nL 2631 2963 \nz\n\" transform=\"scale(0.015625)\"/>\n       <path id=\"DejaVuSans-6f\" d=\"M 1959 3097 \nQ 1497 3097 1228 2736 \nQ 959 2375 959 1747 \nQ 959 1119 1226 758 \nQ 1494 397 1959 397 \nQ 2419 397 2687 759 \nQ 2956 1122 2956 1747 \nQ 2956 2369 2687 2733 \nQ 2419 3097 1959 3097 \nz\nM 1959 3584 \nQ 2709 3584 3137 3096 \nQ 3566 2609 3566 1747 \nQ 3566 888 3137 398 \nQ 2709 -91 1959 -91 \nQ 1206 -91 779 398 \nQ 353 888 353 1747 \nQ 353 2609 779 3096 \nQ 1206 3584 1959 3584 \nz\n\" transform=\"scale(0.015625)\"/>\n       <path id=\"DejaVuSans-75\" d=\"M 544 1381 \nL 544 3500 \nL 1119 3500 \nL 1119 1403 \nQ 1119 906 1312 657 \nQ 1506 409 1894 409 \nQ 2359 409 2629 706 \nQ 2900 1003 2900 1516 \nL 2900 3500 \nL 3475 3500 \nL 3475 0 \nL 2900 0 \nL 2900 538 \nQ 2691 219 2414 64 \nQ 2138 -91 1772 -91 \nQ 1169 -91 856 284 \nQ 544 659 544 1381 \nz\nM 1991 3584 \nL 1991 3584 \nz\n\" transform=\"scale(0.015625)\"/>\n       <path id=\"DejaVuSans-70\" d=\"M 1159 525 \nL 1159 -1331 \nL 581 -1331 \nL 581 3500 \nL 1159 3500 \nL 1159 2969 \nQ 1341 3281 1617 3432 \nQ 1894 3584 2278 3584 \nQ 2916 3584 3314 3078 \nQ 3713 2572 3713 1747 \nQ 3713 922 3314 415 \nQ 2916 -91 2278 -91 \nQ 1894 -91 1617 61 \nQ 1341 213 1159 525 \nz\nM 3116 1747 \nQ 3116 2381 2855 2742 \nQ 2594 3103 2138 3103 \nQ 1681 3103 1420 2742 \nQ 1159 2381 1159 1747 \nQ 1159 1113 1420 752 \nQ 1681 391 2138 391 \nQ 2594 391 2855 752 \nQ 3116 1113 3116 1747 \nz\n\" transform=\"scale(0.015625)\"/>\n       <path id=\"DejaVuSans-73\" d=\"M 2834 3397 \nL 2834 2853 \nQ 2591 2978 2328 3040 \nQ 2066 3103 1784 3103 \nQ 1356 3103 1142 2972 \nQ 928 2841 928 2578 \nQ 928 2378 1081 2264 \nQ 1234 2150 1697 2047 \nL 1894 2003 \nQ 2506 1872 2764 1633 \nQ 3022 1394 3022 966 \nQ 3022 478 2636 193 \nQ 2250 -91 1575 -91 \nQ 1294 -91 989 -36 \nQ 684 19 347 128 \nL 347 722 \nQ 666 556 975 473 \nQ 1284 391 1588 391 \nQ 1994 391 2212 530 \nQ 2431 669 2431 922 \nQ 2431 1156 2273 1281 \nQ 2116 1406 1581 1522 \nL 1381 1569 \nQ 847 1681 609 1914 \nQ 372 2147 372 2553 \nQ 372 3047 722 3315 \nQ 1072 3584 1716 3584 \nQ 2034 3584 2315 3537 \nQ 2597 3491 2834 3397 \nz\n\" transform=\"scale(0.015625)\"/>\n       <path id=\"DejaVuSans-20\" transform=\"scale(0.015625)\"/>\n       <path id=\"DejaVuSans-66\" d=\"M 2375 4863 \nL 2375 4384 \nL 1825 4384 \nQ 1516 4384 1395 4259 \nQ 1275 4134 1275 3809 \nL 1275 3500 \nL 2222 3500 \nL 2222 3053 \nL 1275 3053 \nL 1275 0 \nL 697 0 \nL 697 3053 \nL 147 3053 \nL 147 3500 \nL 697 3500 \nL 697 3744 \nQ 697 4328 969 4595 \nQ 1241 4863 1831 4863 \nL 2375 4863 \nz\n\" transform=\"scale(0.015625)\"/>\n       <path id=\"DejaVuSans-65\" d=\"M 3597 1894 \nL 3597 1613 \nL 953 1613 \nQ 991 1019 1311 708 \nQ 1631 397 2203 397 \nQ 2534 397 2845 478 \nQ 3156 559 3463 722 \nL 3463 178 \nQ 3153 47 2828 -22 \nQ 2503 -91 2169 -91 \nQ 1331 -91 842 396 \nQ 353 884 353 1716 \nQ 353 2575 817 3079 \nQ 1281 3584 2069 3584 \nQ 2775 3584 3186 3129 \nQ 3597 2675 3597 1894 \nz\nM 3022 2063 \nQ 3016 2534 2758 2815 \nQ 2500 3097 2075 3097 \nQ 1594 3097 1305 2825 \nQ 1016 2553 972 2059 \nL 3022 2063 \nz\n\" transform=\"scale(0.015625)\"/>\n       <path id=\"DejaVuSans-78\" d=\"M 3513 3500 \nL 2247 1797 \nL 3578 0 \nL 2900 0 \nL 1881 1375 \nL 863 0 \nL 184 0 \nL 1544 1831 \nL 300 3500 \nL 978 3500 \nL 1906 2253 \nL 2834 3500 \nL 3513 3500 \nz\n\" transform=\"scale(0.015625)\"/>\n       <path id=\"DejaVuSans-69\" d=\"M 603 3500 \nL 1178 3500 \nL 1178 0 \nL 603 0 \nL 603 3500 \nz\nM 603 4863 \nL 1178 4863 \nL 1178 4134 \nL 603 4134 \nL 603 4863 \nz\n\" transform=\"scale(0.015625)\"/>\n       <path id=\"DejaVuSans-6d\" d=\"M 3328 2828 \nQ 3544 3216 3844 3400 \nQ 4144 3584 4550 3584 \nQ 5097 3584 5394 3201 \nQ 5691 2819 5691 2113 \nL 5691 0 \nL 5113 0 \nL 5113 2094 \nQ 5113 2597 4934 2840 \nQ 4756 3084 4391 3084 \nQ 3944 3084 3684 2787 \nQ 3425 2491 3425 1978 \nL 3425 0 \nL 2847 0 \nL 2847 2094 \nQ 2847 2600 2669 2842 \nQ 2491 3084 2119 3084 \nQ 1678 3084 1418 2786 \nQ 1159 2488 1159 1978 \nL 1159 0 \nL 581 0 \nL 581 3500 \nL 1159 3500 \nL 1159 2956 \nQ 1356 3278 1631 3431 \nQ 1906 3584 2284 3584 \nQ 2666 3584 2933 3390 \nQ 3200 3197 3328 2828 \nz\n\" transform=\"scale(0.015625)\"/>\n       <path id=\"DejaVuSans-6e\" d=\"M 3513 2113 \nL 3513 0 \nL 2938 0 \nL 2938 2094 \nQ 2938 2591 2744 2837 \nQ 2550 3084 2163 3084 \nQ 1697 3084 1428 2787 \nQ 1159 2491 1159 1978 \nL 1159 0 \nL 581 0 \nL 581 3500 \nL 1159 3500 \nL 1159 2956 \nQ 1366 3272 1645 3428 \nQ 1925 3584 2291 3584 \nQ 2894 3584 3203 3211 \nQ 3513 2838 3513 2113 \nz\n\" transform=\"scale(0.015625)\"/>\n       <path id=\"DejaVuSans-74\" d=\"M 1172 4494 \nL 1172 3500 \nL 2356 3500 \nL 2356 3053 \nL 1172 3053 \nL 1172 1153 \nQ 1172 725 1289 603 \nQ 1406 481 1766 481 \nL 2356 481 \nL 2356 0 \nL 1766 0 \nQ 1100 0 847 248 \nQ 594 497 594 1153 \nL 594 3053 \nL 172 3053 \nL 172 3500 \nL 594 3500 \nL 594 4494 \nL 1172 4494 \nz\n\" transform=\"scale(0.015625)\"/>\n      </defs>\n      <use xlink:href=\"#DejaVuSans-47\"/>\n      <use xlink:href=\"#DejaVuSans-72\" x=\"77.490234\"/>\n      <use xlink:href=\"#DejaVuSans-6f\" x=\"116.353516\"/>\n      <use xlink:href=\"#DejaVuSans-75\" x=\"177.535156\"/>\n      <use xlink:href=\"#DejaVuSans-70\" x=\"240.914062\"/>\n      <use xlink:href=\"#DejaVuSans-73\" x=\"304.390625\"/>\n      <use xlink:href=\"#DejaVuSans-20\" x=\"356.490234\"/>\n      <use xlink:href=\"#DejaVuSans-6f\" x=\"388.277344\"/>\n      <use xlink:href=\"#DejaVuSans-66\" x=\"449.458984\"/>\n      <use xlink:href=\"#DejaVuSans-20\" x=\"484.664062\"/>\n      <use xlink:href=\"#DejaVuSans-65\" x=\"516.451172\"/>\n      <use xlink:href=\"#DejaVuSans-78\" x=\"576.224609\"/>\n      <use xlink:href=\"#DejaVuSans-70\" x=\"635.404297\"/>\n      <use xlink:href=\"#DejaVuSans-65\" x=\"698.880859\"/>\n      <use xlink:href=\"#DejaVuSans-72\" x=\"760.404297\"/>\n      <use xlink:href=\"#DejaVuSans-69\" x=\"801.517578\"/>\n      <use xlink:href=\"#DejaVuSans-6d\" x=\"829.300781\"/>\n      <use xlink:href=\"#DejaVuSans-65\" x=\"926.712891\"/>\n      <use xlink:href=\"#DejaVuSans-6e\" x=\"988.236328\"/>\n      <use xlink:href=\"#DejaVuSans-74\" x=\"1051.615234\"/>\n      <use xlink:href=\"#DejaVuSans-73\" x=\"1090.824219\"/>\n     </g>\n    </g>\n   </g>\n   <g id=\"matplotlib.axis_2\">\n    <g id=\"ytick_1\">\n     <g id=\"line2d_7\">\n      <defs>\n       <path id=\"ma36b62d68c\" d=\"M 0 0 \nL -3.5 0 \n\" style=\"stroke: #000000; stroke-width: 0.8\"/>\n      </defs>\n      <g>\n       <use xlink:href=\"#ma36b62d68c\" x=\"50.14375\" y=\"240.700909\" style=\"stroke: #000000; stroke-width: 0.8\"/>\n      </g>\n     </g>\n     <g id=\"text_8\">\n      <!-- 0.00 -->\n      <g transform=\"translate(20.878125 244.500128)scale(0.1 -0.1)\">\n       <defs>\n        <path id=\"DejaVuSans-2e\" d=\"M 684 794 \nL 1344 794 \nL 1344 0 \nL 684 0 \nL 684 794 \nz\n\" transform=\"scale(0.015625)\"/>\n       </defs>\n       <use xlink:href=\"#DejaVuSans-30\"/>\n       <use xlink:href=\"#DejaVuSans-2e\" x=\"63.623047\"/>\n       <use xlink:href=\"#DejaVuSans-30\" x=\"95.410156\"/>\n       <use xlink:href=\"#DejaVuSans-30\" x=\"159.033203\"/>\n      </g>\n     </g>\n    </g>\n    <g id=\"ytick_2\">\n     <g id=\"line2d_8\">\n      <g>\n       <use xlink:href=\"#ma36b62d68c\" x=\"50.14375\" y=\"212.903182\" style=\"stroke: #000000; stroke-width: 0.8\"/>\n      </g>\n     </g>\n     <g id=\"text_9\">\n      <!-- 0.05 -->\n      <g transform=\"translate(20.878125 216.702401)scale(0.1 -0.1)\">\n       <use xlink:href=\"#DejaVuSans-30\"/>\n       <use xlink:href=\"#DejaVuSans-2e\" x=\"63.623047\"/>\n       <use xlink:href=\"#DejaVuSans-30\" x=\"95.410156\"/>\n       <use xlink:href=\"#DejaVuSans-35\" x=\"159.033203\"/>\n      </g>\n     </g>\n    </g>\n    <g id=\"ytick_3\">\n     <g id=\"line2d_9\">\n      <g>\n       <use xlink:href=\"#ma36b62d68c\" x=\"50.14375\" y=\"185.105455\" style=\"stroke: #000000; stroke-width: 0.8\"/>\n      </g>\n     </g>\n     <g id=\"text_10\">\n      <!-- 0.10 -->\n      <g transform=\"translate(20.878125 188.904674)scale(0.1 -0.1)\">\n       <use xlink:href=\"#DejaVuSans-30\"/>\n       <use xlink:href=\"#DejaVuSans-2e\" x=\"63.623047\"/>\n       <use xlink:href=\"#DejaVuSans-31\" x=\"95.410156\"/>\n       <use xlink:href=\"#DejaVuSans-30\" x=\"159.033203\"/>\n      </g>\n     </g>\n    </g>\n    <g id=\"ytick_4\">\n     <g id=\"line2d_10\">\n      <g>\n       <use xlink:href=\"#ma36b62d68c\" x=\"50.14375\" y=\"157.307729\" style=\"stroke: #000000; stroke-width: 0.8\"/>\n      </g>\n     </g>\n     <g id=\"text_11\">\n      <!-- 0.15 -->\n      <g transform=\"translate(20.878125 161.106947)scale(0.1 -0.1)\">\n       <use xlink:href=\"#DejaVuSans-30\"/>\n       <use xlink:href=\"#DejaVuSans-2e\" x=\"63.623047\"/>\n       <use xlink:href=\"#DejaVuSans-31\" x=\"95.410156\"/>\n       <use xlink:href=\"#DejaVuSans-35\" x=\"159.033203\"/>\n      </g>\n     </g>\n    </g>\n    <g id=\"ytick_5\">\n     <g id=\"line2d_11\">\n      <g>\n       <use xlink:href=\"#ma36b62d68c\" x=\"50.14375\" y=\"129.510002\" style=\"stroke: #000000; stroke-width: 0.8\"/>\n      </g>\n     </g>\n     <g id=\"text_12\">\n      <!-- 0.20 -->\n      <g transform=\"translate(20.878125 133.30922)scale(0.1 -0.1)\">\n       <use xlink:href=\"#DejaVuSans-30\"/>\n       <use xlink:href=\"#DejaVuSans-2e\" x=\"63.623047\"/>\n       <use xlink:href=\"#DejaVuSans-32\" x=\"95.410156\"/>\n       <use xlink:href=\"#DejaVuSans-30\" x=\"159.033203\"/>\n      </g>\n     </g>\n    </g>\n    <g id=\"ytick_6\">\n     <g id=\"line2d_12\">\n      <g>\n       <use xlink:href=\"#ma36b62d68c\" x=\"50.14375\" y=\"101.712275\" style=\"stroke: #000000; stroke-width: 0.8\"/>\n      </g>\n     </g>\n     <g id=\"text_13\">\n      <!-- 0.25 -->\n      <g transform=\"translate(20.878125 105.511494)scale(0.1 -0.1)\">\n       <use xlink:href=\"#DejaVuSans-30\"/>\n       <use xlink:href=\"#DejaVuSans-2e\" x=\"63.623047\"/>\n       <use xlink:href=\"#DejaVuSans-32\" x=\"95.410156\"/>\n       <use xlink:href=\"#DejaVuSans-35\" x=\"159.033203\"/>\n      </g>\n     </g>\n    </g>\n    <g id=\"ytick_7\">\n     <g id=\"line2d_13\">\n      <g>\n       <use xlink:href=\"#ma36b62d68c\" x=\"50.14375\" y=\"73.914548\" style=\"stroke: #000000; stroke-width: 0.8\"/>\n      </g>\n     </g>\n     <g id=\"text_14\">\n      <!-- 0.30 -->\n      <g transform=\"translate(20.878125 77.713767)scale(0.1 -0.1)\">\n       <use xlink:href=\"#DejaVuSans-30\"/>\n       <use xlink:href=\"#DejaVuSans-2e\" x=\"63.623047\"/>\n       <use xlink:href=\"#DejaVuSans-33\" x=\"95.410156\"/>\n       <use xlink:href=\"#DejaVuSans-30\" x=\"159.033203\"/>\n      </g>\n     </g>\n    </g>\n    <g id=\"ytick_8\">\n     <g id=\"line2d_14\">\n      <g>\n       <use xlink:href=\"#ma36b62d68c\" x=\"50.14375\" y=\"46.116821\" style=\"stroke: #000000; stroke-width: 0.8\"/>\n      </g>\n     </g>\n     <g id=\"text_15\">\n      <!-- 0.35 -->\n      <g transform=\"translate(20.878125 49.91604)scale(0.1 -0.1)\">\n       <use xlink:href=\"#DejaVuSans-30\"/>\n       <use xlink:href=\"#DejaVuSans-2e\" x=\"63.623047\"/>\n       <use xlink:href=\"#DejaVuSans-33\" x=\"95.410156\"/>\n       <use xlink:href=\"#DejaVuSans-35\" x=\"159.033203\"/>\n      </g>\n     </g>\n    </g>\n    <g id=\"ytick_9\">\n     <g id=\"line2d_15\">\n      <g>\n       <use xlink:href=\"#ma36b62d68c\" x=\"50.14375\" y=\"18.319094\" style=\"stroke: #000000; stroke-width: 0.8\"/>\n      </g>\n     </g>\n     <g id=\"text_16\">\n      <!-- 0.40 -->\n      <g transform=\"translate(20.878125 22.118313)scale(0.1 -0.1)\">\n       <use xlink:href=\"#DejaVuSans-30\"/>\n       <use xlink:href=\"#DejaVuSans-2e\" x=\"63.623047\"/>\n       <use xlink:href=\"#DejaVuSans-34\" x=\"95.410156\"/>\n       <use xlink:href=\"#DejaVuSans-30\" x=\"159.033203\"/>\n      </g>\n     </g>\n    </g>\n    <g id=\"text_17\">\n     <!-- Estimated probability -->\n     <g transform=\"translate(14.798438 183.033437)rotate(-90)scale(0.1 -0.1)\">\n      <defs>\n       <path id=\"DejaVuSans-45\" d=\"M 628 4666 \nL 3578 4666 \nL 3578 4134 \nL 1259 4134 \nL 1259 2753 \nL 3481 2753 \nL 3481 2222 \nL 1259 2222 \nL 1259 531 \nL 3634 531 \nL 3634 0 \nL 628 0 \nL 628 4666 \nz\n\" transform=\"scale(0.015625)\"/>\n       <path id=\"DejaVuSans-61\" d=\"M 2194 1759 \nQ 1497 1759 1228 1600 \nQ 959 1441 959 1056 \nQ 959 750 1161 570 \nQ 1363 391 1709 391 \nQ 2188 391 2477 730 \nQ 2766 1069 2766 1631 \nL 2766 1759 \nL 2194 1759 \nz\nM 3341 1997 \nL 3341 0 \nL 2766 0 \nL 2766 531 \nQ 2569 213 2275 61 \nQ 1981 -91 1556 -91 \nQ 1019 -91 701 211 \nQ 384 513 384 1019 \nQ 384 1609 779 1909 \nQ 1175 2209 1959 2209 \nL 2766 2209 \nL 2766 2266 \nQ 2766 2663 2505 2880 \nQ 2244 3097 1772 3097 \nQ 1472 3097 1187 3025 \nQ 903 2953 641 2809 \nL 641 3341 \nQ 956 3463 1253 3523 \nQ 1550 3584 1831 3584 \nQ 2591 3584 2966 3190 \nQ 3341 2797 3341 1997 \nz\n\" transform=\"scale(0.015625)\"/>\n       <path id=\"DejaVuSans-64\" d=\"M 2906 2969 \nL 2906 4863 \nL 3481 4863 \nL 3481 0 \nL 2906 0 \nL 2906 525 \nQ 2725 213 2448 61 \nQ 2172 -91 1784 -91 \nQ 1150 -91 751 415 \nQ 353 922 353 1747 \nQ 353 2572 751 3078 \nQ 1150 3584 1784 3584 \nQ 2172 3584 2448 3432 \nQ 2725 3281 2906 2969 \nz\nM 947 1747 \nQ 947 1113 1208 752 \nQ 1469 391 1925 391 \nQ 2381 391 2643 752 \nQ 2906 1113 2906 1747 \nQ 2906 2381 2643 2742 \nQ 2381 3103 1925 3103 \nQ 1469 3103 1208 2742 \nQ 947 2381 947 1747 \nz\n\" transform=\"scale(0.015625)\"/>\n       <path id=\"DejaVuSans-62\" d=\"M 3116 1747 \nQ 3116 2381 2855 2742 \nQ 2594 3103 2138 3103 \nQ 1681 3103 1420 2742 \nQ 1159 2381 1159 1747 \nQ 1159 1113 1420 752 \nQ 1681 391 2138 391 \nQ 2594 391 2855 752 \nQ 3116 1113 3116 1747 \nz\nM 1159 2969 \nQ 1341 3281 1617 3432 \nQ 1894 3584 2278 3584 \nQ 2916 3584 3314 3078 \nQ 3713 2572 3713 1747 \nQ 3713 922 3314 415 \nQ 2916 -91 2278 -91 \nQ 1894 -91 1617 61 \nQ 1341 213 1159 525 \nL 1159 0 \nL 581 0 \nL 581 4863 \nL 1159 4863 \nL 1159 2969 \nz\n\" transform=\"scale(0.015625)\"/>\n       <path id=\"DejaVuSans-6c\" d=\"M 603 4863 \nL 1178 4863 \nL 1178 0 \nL 603 0 \nL 603 4863 \nz\n\" transform=\"scale(0.015625)\"/>\n       <path id=\"DejaVuSans-79\" d=\"M 2059 -325 \nQ 1816 -950 1584 -1140 \nQ 1353 -1331 966 -1331 \nL 506 -1331 \nL 506 -850 \nL 844 -850 \nQ 1081 -850 1212 -737 \nQ 1344 -625 1503 -206 \nL 1606 56 \nL 191 3500 \nL 800 3500 \nL 1894 763 \nL 2988 3500 \nL 3597 3500 \nL 2059 -325 \nz\n\" transform=\"scale(0.015625)\"/>\n      </defs>\n      <use xlink:href=\"#DejaVuSans-45\"/>\n      <use xlink:href=\"#DejaVuSans-73\" x=\"63.183594\"/>\n      <use xlink:href=\"#DejaVuSans-74\" x=\"115.283203\"/>\n      <use xlink:href=\"#DejaVuSans-69\" x=\"154.492188\"/>\n      <use xlink:href=\"#DejaVuSans-6d\" x=\"182.275391\"/>\n      <use xlink:href=\"#DejaVuSans-61\" x=\"279.6875\"/>\n      <use xlink:href=\"#DejaVuSans-74\" x=\"340.966797\"/>\n      <use xlink:href=\"#DejaVuSans-65\" x=\"380.175781\"/>\n      <use xlink:href=\"#DejaVuSans-64\" x=\"441.699219\"/>\n      <use xlink:href=\"#DejaVuSans-20\" x=\"505.175781\"/>\n      <use xlink:href=\"#DejaVuSans-70\" x=\"536.962891\"/>\n      <use xlink:href=\"#DejaVuSans-72\" x=\"600.439453\"/>\n      <use xlink:href=\"#DejaVuSans-6f\" x=\"639.302734\"/>\n      <use xlink:href=\"#DejaVuSans-62\" x=\"700.484375\"/>\n      <use xlink:href=\"#DejaVuSans-61\" x=\"763.960938\"/>\n      <use xlink:href=\"#DejaVuSans-62\" x=\"825.240234\"/>\n      <use xlink:href=\"#DejaVuSans-69\" x=\"888.716797\"/>\n      <use xlink:href=\"#DejaVuSans-6c\" x=\"916.5\"/>\n      <use xlink:href=\"#DejaVuSans-69\" x=\"944.283203\"/>\n      <use xlink:href=\"#DejaVuSans-74\" x=\"972.066406\"/>\n      <use xlink:href=\"#DejaVuSans-79\" x=\"1011.275391\"/>\n     </g>\n    </g>\n   </g>\n   <g id=\"line2d_16\">\n    <path d=\"M 65.361932 18.319091 \nL 65.971879 18.319091 \nL 66.581826 73.914541 \nL 67.191773 101.712275 \nL 67.80172 107.271823 \nL 68.411668 83.180458 \nL 69.021615 89.798956 \nL 69.631562 94.76285 \nL 70.241509 98.62363 \nL 70.851456 112.831363 \nL 72.071351 124.87705 \nL 72.681298 129.51 \nL 73.291245 125.538896 \nL 73.901192 125.80364 \nL 74.511139 122.560567 \nL 75.121086 126.239679 \nL 75.731034 123.332728 \nL 77.560875 124.215195 \nL 78.170822 121.928801 \nL 78.780769 122.258419 \nL 79.390717 124.87705 \nL 80.000664 125.062363 \nL 80.610611 129.51 \nL 81.830505 133.481104 \nL 82.440452 135.261257 \nL 83.0504 131.36318 \nL 83.660347 133.096808 \nL 84.270294 136.459433 \nL 84.880241 136.248845 \nL 86.710083 140.320231 \nL 87.929977 139.751268 \nL 88.539924 138.063146 \nL 89.149871 137.849318 \nL 90.369766 140.09961 \nL 91.58966 139.618263 \nL 92.809554 144.013162 \nL 93.419502 144.887469 \nL 94.029449 144.567104 \nL 94.639396 141.990616 \nL 95.249343 140.629088 \nL 96.469237 140.201433 \nL 98.299079 136.585787 \nL 98.909026 137.452207 \nL 99.518973 137.312872 \nL 101.348815 139.702498 \nL 101.958762 138.624015 \nL 102.568709 139.373708 \nL 103.178656 138.334675 \nL 103.788603 139.065472 \nL 104.398551 138.063146 \nL 105.008498 139.618263 \nL 105.618445 139.467396 \nL 106.228392 138.503386 \nL 106.838339 139.178777 \nL 107.448286 138.24643 \nL 108.058234 138.123382 \nL 108.668181 138.775908 \nL 109.278128 137.887402 \nL 109.888075 137.774187 \nL 110.498022 136.922728 \nL 111.717917 138.174231 \nL 112.937811 137.954878 \nL 114.157705 139.119088 \nL 114.767652 139.001906 \nL 115.3776 140.227197 \nL 115.987547 139.437763 \nL 116.597494 139.975029 \nL 117.817388 139.734451 \nL 118.427335 138.354731 \nL 119.037283 138.255352 \nL 119.64723 139.393641 \nL 120.257177 139.285024 \nL 121.477071 140.270408 \nL 122.087018 140.155943 \nL 122.696966 139.458665 \nL 123.306913 139.934146 \nL 123.91686 138.107236 \nL 124.526807 138.586809 \nL 125.136754 139.618263 \nL 125.746701 139.517185 \nL 126.966596 140.411069 \nL 127.576543 140.305236 \nL 128.18649 140.736006 \nL 128.796437 140.629088 \nL 130.016332 141.460425 \nL 131.236226 140.22105 \nL 131.846173 140.629088 \nL 132.45612 140.528922 \nL 133.066067 139.934146 \nL 133.676015 140.333892 \nL 134.285962 140.238953 \nL 134.895909 141.112531 \nL 136.115803 139.963845 \nL 136.72575 138.461815 \nL 138.555592 138.239868 \nL 139.165539 137.71261 \nL 139.775486 138.097916 \nL 140.385433 138.925358 \nL 140.995381 139.2948 \nL 141.605328 140.09961 \nL 142.215275 140.016227 \nL 142.825222 139.499813 \nL 143.435169 140.284318 \nL 144.045116 140.629088 \nL 144.655064 141.392998 \nL 145.265011 141.30298 \nL 146.484905 141.956741 \nL 147.094852 141.452729 \nL 147.704799 141.773706 \nL 148.314747 142.495805 \nL 148.924694 142.804564 \nL 149.534641 141.90899 \nL 150.754535 140.944524 \nL 151.97443 142.339719 \nL 152.584377 142.250629 \nL 153.804271 142.837676 \nL 154.414218 142.747012 \nL 155.634113 143.315585 \nL 156.854007 143.132732 \nL 157.463954 143.408867 \nL 158.073901 142.954651 \nL 158.683848 143.589367 \nL 159.293796 143.857217 \nL 159.903743 144.478006 \nL 160.51369 144.736785 \nL 161.123637 145.344153 \nL 162.343531 145.841166 \nL 163.563426 145.639549 \nL 164.78332 144.764852 \nL 165.393267 143.998515 \nL 166.003214 144.581055 \nL 166.613162 144.490814 \nL 167.223109 144.732568 \nL 167.833056 144.642492 \nL 168.443003 145.207544 \nL 169.05295 145.440865 \nL 169.662897 145.9947 \nL 170.272845 146.220772 \nL 170.882792 146.124731 \nL 171.492739 146.66517 \nL 172.102686 146.883579 \nL 172.712633 146.471324 \nL 173.32258 146.688375 \nL 173.932528 147.213579 \nL 174.542475 147.115227 \nL 175.152422 147.32512 \nL 175.762369 147.227231 \nL 176.372316 147.738021 \nL 176.982263 147.638956 \nL 177.592211 148.141991 \nL 178.202158 148.041817 \nL 178.812105 148.24002 \nL 179.422052 148.140392 \nL 180.031999 147.453511 \nL 180.641946 147.651673 \nL 181.251894 147.556692 \nL 181.861841 147.173143 \nL 182.471788 147.657737 \nL 183.691682 148.041817 \nL 184.301629 147.663619 \nL 184.911577 146.724834 \nL 185.521524 146.357108 \nL 186.131471 146.551823 \nL 186.741418 146.466619 \nL 187.351365 146.105661 \nL 187.961312 145.197826 \nL 188.57126 145.394414 \nL 189.181207 145.044027 \nL 189.791154 144.96825 \nL 190.401101 145.16309 \nL 191.011048 144.55032 \nL 192.230943 145.470415 \nL 192.84089 145.394414 \nL 194.060784 144.720075 \nL 194.670731 145.170695 \nL 195.280678 145.097511 \nL 195.890626 145.283594 \nL 196.500573 144.953181 \nL 197.11052 145.13822 \nL 198.330414 146.010937 \nL 198.940361 145.93593 \nL 199.550309 145.61004 \nL 200.160256 145.787947 \nL 200.770203 146.213564 \nL 201.38015 146.138997 \nL 201.990097 146.559271 \nL 202.600044 145.991842 \nL 203.209992 146.164148 \nL 203.819939 145.359579 \nL 204.429886 145.775918 \nL 205.039833 145.946915 \nL 206.259727 145.80522 \nL 207.479622 145.190768 \nL 208.089569 145.360622 \nL 209.91941 145.16082 \nL 210.529358 144.862724 \nL 211.139305 144.798752 \nL 211.749252 144.273937 \nL 212.969146 144.152422 \nL 213.579093 144.548116 \nL 216.018882 145.202267 \nL 217.238776 145.076725 \nL 217.848724 145.236208 \nL 219.068618 145.111884 \nL 219.678565 144.831583 \nL 220.288512 144.771496 \nL 221.508407 144.22008 \nL 223.338248 144.05035 \nL 224.558142 144.363748 \nL 225.16809 144.730049 \nL 225.778037 144.46181 \nL 226.387984 144.405385 \nL 226.997931 144.140385 \nL 228.827773 144.597243 \nL 229.43772 144.335457 \nL 230.047667 144.485901 \nL 230.657614 144.430843 \nL 231.267561 144.579829 \nL 231.877508 144.119028 \nL 232.487456 144.268063 \nL 233.097403 144.617465 \nL 233.70735 144.16151 \nL 234.317297 144.308789 \nL 234.927244 144.056481 \nL 235.537191 144.004529 \nL 236.147139 144.150798 \nL 236.757086 144.09888 \nL 238.586927 144.530529 \nL 239.196874 144.089229 \nL 240.416769 144.760147 \nL 241.026716 144.707375 \nL 241.636663 144.46326 \nL 244.076452 144.259812 \nL 244.686399 144.586738 \nL 245.296346 144.347974 \nL 246.51624 144.994644 \nL 247.126188 145.128793 \nL 248.346082 145.763823 \nL 248.956029 145.894094 \nL 249.565976 145.840022 \nL 250.175923 145.969184 \nL 250.785871 145.915219 \nL 251.395818 144.953181 \nL 252.005765 145.265062 \nL 252.615712 145.213915 \nL 253.225659 145.34301 \nL 253.835606 145.112597 \nL 254.445554 145.241195 \nL 255.055501 145.190768 \nL 255.665448 144.963047 \nL 256.275395 145.090892 \nL 256.885342 145.041434 \nL 257.495289 145.168218 \nL 258.105237 144.943438 \nL 258.715184 145.069733 \nL 259.325131 145.36952 \nL 259.935078 145.493694 \nL 260.545025 145.443905 \nL 261.76492 146.033727 \nL 262.984814 146.274173 \nL 263.594761 145.881668 \nL 264.204708 145.661585 \nL 264.814655 145.951339 \nL 265.424603 145.901368 \nL 266.03455 146.020166 \nL 266.644497 145.802328 \nL 267.864391 145.704473 \nL 269.084286 145.9397 \nL 269.694233 145.559878 \nL 270.30418 145.677226 \nL 271.524074 145.253845 \nL 272.134021 145.207544 \nL 272.743969 144.835435 \nL 273.963863 144.746071 \nL 274.57381 145.025014 \nL 275.183757 145.141186 \nL 275.793704 144.935328 \nL 276.403652 145.211313 \nL 278.233493 145.553259 \nL 278.84344 145.349165 \nL 281.283229 145.170695 \nL 281.893176 145.439034 \nL 282.503123 145.394414 \nL 283.11307 145.194753 \nL 284.332965 145.416476 \nL 284.942912 145.372419 \nL 286.162806 145.591334 \nL 286.772753 145.547153 \nL 287.382701 145.350897 \nL 287.992648 145.611415 \nL 288.602595 145.416061 \nL 291.042384 145.843974 \nL 291.652331 145.800067 \nL 292.262278 146.054496 \nL 292.872225 146.158904 \nL 293.482172 146.411022 \nL 294.092119 146.070353 \nL 294.702067 145.878959 \nL 295.312014 145.982729 \nL 295.921961 145.792578 \nL 296.531908 145.749723 \nL 298.971697 146.159683 \nL 299.581644 146.116439 \nL 300.191591 146.361474 \nL 300.801538 146.317931 \nL 301.411485 145.988039 \nL 302.021433 145.802759 \nL 302.63138 146.046088 \nL 303.241327 146.003796 \nL 303.851274 146.10354 \nL 304.461221 146.061323 \nL 305.071168 146.16042 \nL 305.681116 146.399756 \nL 306.291063 146.216713 \nL 306.90101 146.454714 \nL 307.510957 146.412141 \nL 308.120904 146.648452 \nL 308.730851 146.744592 \nL 309.340799 146.562974 \nL 309.950746 146.52055 \nL 310.560693 146.20243 \nL 311.17064 146.436339 \nL 311.780587 146.394545 \nL 312.390534 146.62683 \nL 313.000482 146.448178 \nL 313.610429 146.542926 \nL 314.220376 146.77314 \nL 314.830323 146.731031 \nL 315.44027 146.553861 \nL 316.050217 146.512498 \nL 316.660165 146.336712 \nL 317.880059 146.255624 \nL 318.490006 146.349006 \nL 319.7099 146.26844 \nL 320.319848 146.493816 \nL 321.539742 146.677241 \nL 322.759636 146.596079 \nL 323.369583 146.6869 \nL 323.979531 146.51567 \nL 325.199425 146.956821 \nL 327.029266 147.222973 \nL 327.639214 147.052879 \nL 328.249161 147.140966 \nL 328.859108 146.843458 \nL 329.469055 146.803519 \nL 330.079002 146.891565 \nL 330.688949 146.851701 \nL 331.298897 146.684796 \nL 331.908844 146.137862 \nL 332.518791 146.099986 \nL 334.348632 146.364729 \nL 334.95858 146.326687 \nL 336.178474 146.500974 \nL 336.788421 146.338219 \nL 337.398368 146.424948 \nL 338.008315 146.635388 \nL 341.058051 146.446363 \nL 341.667998 146.531518 \nL 342.887893 146.45686 \nL 344.107787 145.775918 \nL 344.717734 145.61936 \nL 345.327681 145.705202 \nL 345.937629 145.670068 \nL 346.547576 145.875761 \nL 347.157523 145.960494 \nL 347.76747 145.925036 \nL 348.377417 146.009297 \nL 348.987365 145.973889 \nL 349.597312 146.176732 \nL 350.207259 146.259915 \nL 351.427153 146.188637 \nL 352.647048 146.589111 \nL 353.256995 146.553008 \nL 353.866942 146.634336 \nL 354.476889 146.59829 \nL 355.086836 146.445593 \nL 356.306731 146.374729 \nL 356.916678 146.223456 \nL 358.136572 146.153967 \nL 358.746519 145.888743 \nL 360.576361 146.131326 \nL 361.186308 145.982729 \nL 361.796255 145.948904 \nL 362.406202 145.57344 \nL 363.016149 145.654287 \nL 364.236044 146.04144 \nL 364.845991 145.89484 \nL 366.675832 146.132477 \nL 367.28578 146.098967 \nL 368.505674 145.920704 \nL 369.725568 146.077444 \nL 369.725568 146.077444 \n\" clip-path=\"url(#pe1eb056744)\" style=\"fill: none; stroke: #1f77b4; stroke-width: 1.5; stroke-linecap: square\"/>\n   </g>\n   <g id=\"line2d_17\">\n    <path d=\"M 65.361932 185.105455 \nL 65.971879 185.105455 \nL 66.581826 129.51 \nL 67.191773 101.712275 \nL 67.80172 85.033638 \nL 68.411668 101.712275 \nL 69.021615 113.625586 \nL 69.631562 115.611142 \nL 70.241509 110.978183 \nL 70.851456 112.831363 \nL 71.461403 119.401737 \nL 72.071351 115.611142 \nL 73.291245 117.596689 \nL 73.901192 125.80364 \nL 74.511139 129.51 \nL 75.121086 126.239679 \nL 75.731034 129.51 \nL 76.950928 123.95046 \nL 77.560875 126.862598 \nL 78.170822 132.037064 \nL 78.780769 131.927196 \nL 79.390717 134.142958 \nL 80.000664 133.957637 \nL 80.610611 131.648287 \nL 81.220558 135.687272 \nL 81.830505 135.46666 \nL 82.440452 139.095428 \nL 83.0504 140.629088 \nL 83.660347 138.477008 \nL 84.270294 138.19679 \nL 84.880241 134.564136 \nL 85.490188 137.685802 \nL 86.100135 137.452207 \nL 87.32003 143.03322 \nL 87.929977 139.751268 \nL 88.539924 139.488671 \nL 89.759819 136.289935 \nL 90.369766 136.128506 \nL 90.979713 133.388758 \nL 91.58966 134.564136 \nL 92.199607 130.745456 \nL 92.809554 133.135795 \nL 94.029449 132.984721 \nL 94.639396 134.048409 \nL 95.249343 133.957637 \nL 97.079185 130.558975 \nL 98.299079 132.542485 \nL 98.909026 132.48833 \nL 99.518973 133.41144 \nL 100.12892 133.344171 \nL 100.738868 132.336892 \nL 101.348815 130.43659 \nL 102.568709 132.200108 \nL 103.788603 130.378682 \nL 105.008498 132.037064 \nL 105.618445 133.658919 \nL 106.838339 131.927196 \nL 107.448286 132.686881 \nL 108.058234 132.642137 \nL 108.668181 133.370797 \nL 109.278128 134.841074 \nL 110.498022 134.698914 \nL 111.107969 133.899116 \nL 111.717917 134.564136 \nL 112.327864 135.92486 \nL 112.937811 136.547397 \nL 113.547758 136.459433 \nL 114.157705 135.000912 \nL 115.3776 133.528954 \nL 115.987547 133.481104 \nL 116.597494 132.126261 \nL 117.207441 132.742295 \nL 117.817388 132.70514 \nL 118.427335 133.300604 \nL 119.037283 132.633339 \nL 119.64723 132.598636 \nL 120.257177 131.953756 \nL 120.867124 131.927196 \nL 122.696966 133.606512 \nL 123.306913 132.984721 \nL 125.746701 135.069548 \nL 126.356649 134.464052 \nL 126.966596 134.960534 \nL 127.576543 135.987142 \nL 128.796437 135.863771 \nL 129.406384 135.279342 \nL 130.016332 135.745006 \nL 130.626279 136.71682 \nL 131.846173 136.585787 \nL 132.45612 137.523759 \nL 133.066067 137.452207 \nL 133.676015 136.889931 \nL 134.285962 137.312872 \nL 134.895909 136.761581 \nL 135.505856 137.178343 \nL 136.115803 138.063146 \nL 136.72575 137.990666 \nL 137.335698 137.452207 \nL 137.945645 137.849318 \nL 139.775486 137.645921 \nL 140.385433 137.131958 \nL 140.995381 137.515748 \nL 141.605328 137.452207 \nL 142.215275 136.951914 \nL 142.825222 136.893775 \nL 143.435169 137.267507 \nL 144.655064 137.149074 \nL 148.314747 134.379676 \nL 148.924694 134.747253 \nL 150.144588 136.260882 \nL 151.364482 136.165794 \nL 151.97443 136.508029 \nL 152.584377 135.687272 \nL 153.194324 135.644674 \nL 153.804271 135.983447 \nL 154.414218 135.939407 \nL 155.024165 136.27161 \nL 155.634113 136.226228 \nL 156.24406 136.922728 \nL 158.073901 137.867486 \nL 158.683848 137.452207 \nL 159.293796 136.683608 \nL 159.903743 136.637622 \nL 161.123637 137.251137 \nL 161.733584 136.503142 \nL 162.343531 136.459433 \nL 162.953479 136.761581 \nL 164.173373 138.03691 \nL 166.003214 137.882812 \nL 167.223109 138.444989 \nL 167.833056 138.392118 \nL 168.443003 138.012835 \nL 169.05295 137.963112 \nL 169.662897 138.237193 \nL 170.272845 138.186749 \nL 170.882792 137.817366 \nL 171.492739 137.769896 \nL 172.102686 138.038848 \nL 173.32258 137.943023 \nL 173.932528 136.964142 \nL 175.762369 137.757677 \nL 176.372316 138.32021 \nL 176.982263 138.574474 \nL 177.592211 139.126511 \nL 178.202158 138.477008 \nL 178.812105 138.72636 \nL 179.422052 138.677341 \nL 180.031999 139.217142 \nL 181.251894 139.697652 \nL 181.861841 139.355027 \nL 182.471788 139.30402 \nL 183.081735 139.826681 \nL 184.301629 139.154115 \nL 184.911577 138.540732 \nL 185.521524 138.214344 \nL 186.131471 138.72935 \nL 186.741418 138.96123 \nL 187.351365 138.637617 \nL 187.961312 138.867649 \nL 188.57126 138.821555 \nL 189.181207 139.320962 \nL 189.791154 139.5443 \nL 190.401101 138.955828 \nL 191.011048 138.910198 \nL 191.620995 139.132294 \nL 192.230943 138.820246 \nL 193.450837 139.785939 \nL 195.280678 139.641882 \nL 195.890626 139.077592 \nL 196.500573 139.033295 \nL 197.11052 138.733211 \nL 197.720467 138.945928 \nL 198.330414 138.648984 \nL 199.550309 138.566272 \nL 200.160256 138.275052 \nL 200.770203 138.235743 \nL 201.990097 139.146551 \nL 202.600044 139.349907 \nL 203.209992 139.306555 \nL 203.819939 139.507426 \nL 204.429886 138.978221 \nL 205.64978 139.377594 \nL 206.259727 139.814329 \nL 206.869675 139.770107 \nL 208.089569 140.155943 \nL 208.699516 140.110827 \nL 209.309463 140.30068 \nL 210.529358 140.21038 \nL 211.139305 139.934146 \nL 211.749252 139.890893 \nL 212.359199 139.618263 \nL 212.969146 139.805457 \nL 213.579093 139.763264 \nL 214.189041 139.494494 \nL 214.798988 139.453901 \nL 215.408935 139.638725 \nL 216.018882 140.046233 \nL 217.238776 140.406711 \nL 218.458671 140.320231 \nL 221.508407 141.191539 \nL 222.118354 141.146257 \nL 222.728301 140.672026 \nL 223.338248 140.629088 \nL 223.948195 141.012506 \nL 224.558142 140.968607 \nL 225.16809 141.347815 \nL 226.387984 141.678063 \nL 227.607878 141.586919 \nL 228.217825 141.749301 \nL 228.827773 141.497125 \nL 229.43772 141.864545 \nL 230.047667 142.02411 \nL 230.657614 141.773706 \nL 231.267561 141.72878 \nL 231.877508 141.481285 \nL 232.487456 141.033424 \nL 233.097403 140.790236 \nL 233.70735 140.950224 \nL 234.317297 140.909067 \nL 234.927244 140.668945 \nL 235.537191 140.827648 \nL 236.147139 141.183072 \nL 237.367033 141.493471 \nL 237.97698 141.842798 \nL 239.196874 142.145335 \nL 239.806822 141.90759 \nL 241.026716 141.821797 \nL 242.24661 142.119281 \nL 242.856557 141.885703 \nL 244.076452 142.179715 \nL 245.296346 142.094104 \nL 245.906293 141.864545 \nL 247.736135 141.741 \nL 248.346082 141.515665 \nL 248.956029 141.660003 \nL 249.565976 141.069452 \nL 250.175923 140.84855 \nL 250.785871 141.175931 \nL 251.395818 141.137807 \nL 252.005765 141.462115 \nL 252.615712 141.603819 \nL 253.225659 141.204835 \nL 253.835606 141.346457 \nL 254.445554 141.30839 \nL 255.055501 140.914195 \nL 255.665448 140.700143 \nL 256.275395 140.841558 \nL 256.885342 140.629088 \nL 257.495289 140.945775 \nL 258.715184 141.223508 \nL 259.935078 141.150299 \nL 260.545025 141.287232 \nL 262.374867 142.207733 \nL 262.984814 142.339719 \nL 263.594761 141.788751 \nL 264.204708 141.921218 \nL 264.814655 141.20539 \nL 265.424603 141.507803 \nL 266.03455 141.639922 \nL 266.644497 141.939195 \nL 267.254444 142.069218 \nL 267.864391 142.365409 \nL 268.474338 142.49337 \nL 269.694233 143.077939 \nL 270.30418 142.872711 \nL 272.743969 143.368108 \nL 273.963863 143.935645 \nL 274.57381 143.408867 \nL 275.183757 143.529727 \nL 275.793704 143.810567 \nL 277.623546 144.165536 \nL 278.233493 143.964822 \nL 278.84344 144.240418 \nL 280.063335 144.47195 \nL 280.673282 144.429683 \nL 281.283229 144.700872 \nL 283.11307 145.039454 \nL 283.723018 144.996201 \nL 284.332965 144.798752 \nL 284.942912 144.756402 \nL 285.552859 144.86786 \nL 286.162806 144.825552 \nL 286.772753 145.088945 \nL 287.382701 145.046264 \nL 288.602595 145.567541 \nL 289.212542 145.070686 \nL 289.822489 145.028519 \nL 290.432436 145.136829 \nL 291.652331 145.650617 \nL 292.262278 145.458295 \nL 292.872225 145.564302 \nL 293.482172 145.37324 \nL 294.092119 145.626766 \nL 294.702067 145.731489 \nL 295.312014 145.688576 \nL 295.921961 145.792578 \nL 296.531908 145.457119 \nL 297.141855 145.269345 \nL 297.751802 144.93701 \nL 298.36175 144.896731 \nL 298.971697 145.146223 \nL 300.801538 145.455984 \nL 301.411485 145.414885 \nL 302.021433 145.516915 \nL 303.241327 145.150663 \nL 303.851274 145.252594 \nL 304.461221 145.212531 \nL 305.681116 144.851531 \nL 307.510957 145.154955 \nL 308.120904 144.97641 \nL 308.730851 145.215721 \nL 310.560693 145.098803 \nL 311.17064 144.922603 \nL 313.000482 145.218794 \nL 313.610429 145.180288 \nL 314.220376 145.006043 \nL 315.44027 145.201173 \nL 316.050217 145.43297 \nL 316.660165 145.394414 \nL 317.270112 145.624629 \nL 318.490006 145.81444 \nL 319.7099 145.736426 \nL 320.319848 145.96307 \nL 320.929795 145.791526 \nL 321.539742 145.752854 \nL 323.979531 146.123232 \nL 324.589478 146.084237 \nL 325.199425 145.915219 \nL 325.809372 146.006787 \nL 326.419319 145.838738 \nL 327.029266 146.059343 \nL 327.639214 145.891957 \nL 328.249161 145.854039 \nL 328.859108 145.944687 \nL 329.469055 145.906819 \nL 330.079002 145.613511 \nL 331.298897 145.794251 \nL 331.908844 145.757071 \nL 332.518791 145.973351 \nL 333.128738 146.062284 \nL 334.348632 145.987385 \nL 334.95858 146.201188 \nL 335.568527 146.163593 \nL 336.178474 146.251101 \nL 336.788421 146.462874 \nL 338.008315 146.387197 \nL 338.618263 146.225784 \nL 339.22821 146.188637 \nL 339.838157 146.274927 \nL 340.448104 146.483834 \nL 341.058051 146.323639 \nL 341.667998 146.286599 \nL 342.277946 146.494106 \nL 342.887893 146.334939 \nL 343.49784 146.541435 \nL 344.717734 146.224972 \nL 345.327681 146.309497 \nL 345.937629 146.273054 \nL 346.547576 146.477446 \nL 347.76747 146.404312 \nL 348.377417 146.607097 \nL 348.987365 146.689717 \nL 349.597312 146.652926 \nL 350.207259 146.73509 \nL 350.817206 146.698366 \nL 351.427153 146.898367 \nL 352.647048 146.824686 \nL 353.256995 146.905616 \nL 353.866942 147.103496 \nL 354.476889 146.949415 \nL 356.306731 147.188891 \nL 357.526625 147.115227 \nL 358.136572 147.309793 \nL 358.746519 147.272862 \nL 359.356466 147.35119 \nL 359.966414 147.314333 \nL 360.576361 147.162994 \nL 361.796255 147.090498 \nL 362.406202 147.168396 \nL 363.016149 147.132284 \nL 364.236044 146.607586 \nL 364.845991 146.572833 \nL 365.455938 146.312687 \nL 366.065885 146.278671 \nL 366.675832 146.132477 \nL 367.895727 146.513036 \nL 369.725568 146.188637 \nL 369.725568 146.188637 \n\" clip-path=\"url(#pe1eb056744)\" style=\"fill: none; stroke: #ff7f0e; stroke-width: 1.5; stroke-linecap: square\"/>\n   </g>\n   <g id=\"line2d_18\">\n    <path d=\"M 65.361932 185.105455 \nL 65.971879 185.105455 \nL 66.581826 203.637271 \nL 67.191773 171.206592 \nL 67.80172 185.105455 \nL 68.411668 194.371363 \nL 69.021615 193.047662 \nL 69.631562 171.206592 \nL 70.241509 178.928182 \nL 70.851456 179.54591 \nL 71.461403 174.997192 \nL 72.071351 180.4725 \nL 73.291245 181.134351 \nL 73.901192 173.986366 \nL 74.511139 171.206592 \nL 75.121086 165.483527 \nL 75.731034 169.66227 \nL 76.340981 170.475074 \nL 77.560875 177.163247 \nL 78.170822 177.524255 \nL 78.780769 175.436681 \nL 79.390717 168.890117 \nL 80.610611 170.137445 \nL 81.220558 166.573634 \nL 81.830505 167.235488 \nL 82.440452 160.183354 \nL 83.0504 159.160914 \nL 84.270294 160.782446 \nL 84.880241 163.204215 \nL 85.490188 160.578046 \nL 86.710083 161.940684 \nL 87.32003 164.069335 \nL 88.539924 165.148109 \nL 89.149871 164.257159 \nL 89.759819 162.053682 \nL 90.979713 163.125854 \nL 91.58966 159.834797 \nL 92.199607 160.396361 \nL 92.809554 157.307725 \nL 95.249343 159.531548 \nL 97.079185 160.979125 \nL 97.689132 159.366821 \nL 98.299079 159.834797 \nL 100.12892 158.266268 \nL 100.738868 159.663468 \nL 101.958762 160.497629 \nL 102.568709 159.997834 \nL 103.178656 161.278829 \nL 103.788603 159.913764 \nL 105.008498 155.623016 \nL 105.618445 155.23327 \nL 106.228392 155.672565 \nL 106.838339 154.487668 \nL 107.448286 155.719289 \nL 108.058234 155.350146 \nL 108.668181 156.535572 \nL 109.278128 156.165352 \nL 109.888075 156.556441 \nL 111.107969 155.844689 \nL 111.717917 154.780662 \nL 112.327864 155.882201 \nL 112.937811 155.548382 \nL 113.547758 156.612783 \nL 114.157705 156.964545 \nL 114.767652 157.985718 \nL 115.3776 158.312462 \nL 115.987547 157.307725 \nL 117.207441 157.954188 \nL 117.817388 156.988214 \nL 118.427335 156.675959 \nL 119.037283 156.995396 \nL 119.64723 155.454545 \nL 120.257177 155.169439 \nL 120.867124 156.099135 \nL 121.477071 155.813225 \nL 122.087018 156.12485 \nL 123.306913 155.570369 \nL 123.91686 156.448007 \nL 125.746701 157.307725 \nL 126.356649 157.032502 \nL 126.966596 157.852779 \nL 127.576543 157.577613 \nL 128.18649 157.842299 \nL 128.796437 157.572469 \nL 129.406384 158.3567 \nL 130.016332 158.087102 \nL 130.626279 158.852047 \nL 131.236226 159.092907 \nL 131.846173 157.813138 \nL 133.066067 159.293281 \nL 133.676015 159.521706 \nL 134.895909 158.032889 \nL 135.505856 157.787001 \nL 137.335698 158.475697 \nL 137.945645 159.160914 \nL 138.555592 159.37533 \nL 139.165539 158.674828 \nL 139.775486 158.437721 \nL 140.385433 159.101134 \nL 140.995381 158.419637 \nL 142.825222 157.742066 \nL 143.435169 157.954188 \nL 144.045116 156.88007 \nL 144.655064 157.095529 \nL 145.265011 156.465371 \nL 146.484905 156.063057 \nL 147.094852 156.278185 \nL 147.704799 156.081357 \nL 149.534641 156.70778 \nL 150.144588 157.307725 \nL 150.754535 157.504877 \nL 151.97443 155.558224 \nL 153.194324 155.965765 \nL 153.804271 156.546143 \nL 155.024165 156.932087 \nL 155.634113 156.374922 \nL 156.24406 156.195822 \nL 156.854007 156.755456 \nL 157.463954 156.94197 \nL 158.073901 156.035934 \nL 158.683848 155.502677 \nL 159.293796 155.334985 \nL 159.903743 154.813062 \nL 160.51369 155.006005 \nL 161.123637 154.844642 \nL 161.733584 155.034958 \nL 162.343531 154.875426 \nL 162.953479 154.372565 \nL 164.173373 154.067502 \nL 165.393267 155.117603 \nL 166.003214 153.958604 \nL 166.613162 154.14511 \nL 167.833056 153.853574 \nL 168.443003 153.383345 \nL 169.05295 153.568849 \nL 170.272845 153.290718 \nL 170.882792 153.473562 \nL 171.492739 153.336622 \nL 172.102686 153.833013 \nL 173.32258 153.55972 \nL 173.932528 154.046542 \nL 177.592211 153.250762 \nL 178.202158 153.720925 \nL 178.812105 152.699545 \nL 179.422052 152.576199 \nL 180.031999 153.042469 \nL 180.641946 152.918617 \nL 181.251894 152.504979 \nL 181.861841 152.96433 \nL 182.471788 152.842807 \nL 183.081735 152.435962 \nL 183.691682 152.31839 \nL 184.911577 153.215678 \nL 185.521524 152.53438 \nL 186.131471 152.139307 \nL 186.741418 152.026159 \nL 187.351365 152.467326 \nL 187.961312 152.07845 \nL 188.57126 152.241146 \nL 189.181207 152.674775 \nL 190.401101 152.449871 \nL 191.011048 152.87621 \nL 191.620995 152.496587 \nL 192.230943 152.918617 \nL 192.84089 152.807143 \nL 193.450837 152.960213 \nL 194.060784 152.8496 \nL 194.670731 152.479016 \nL 195.280678 152.371683 \nL 195.890626 152.782513 \nL 196.500573 152.932162 \nL 197.11052 152.824225 \nL 197.720467 152.462256 \nL 198.330414 152.865166 \nL 198.940361 153.011717 \nL 199.550309 153.408497 \nL 200.160256 153.30085 \nL 201.990097 152.242364 \nL 202.600044 152.38778 \nL 203.819939 152.187091 \nL 204.429886 152.330841 \nL 205.64978 151.651912 \nL 207.479622 152.080803 \nL 208.089569 151.984762 \nL 209.309463 152.26426 \nL 211.139305 153.369718 \nL 211.749252 153.501398 \nL 212.359199 152.942799 \nL 212.969146 152.61758 \nL 214.189041 152.882787 \nL 214.798988 152.561776 \nL 216.018882 152.375875 \nL 216.628829 152.507315 \nL 217.848724 151.881083 \nL 218.458671 152.233541 \nL 219.678565 151.616853 \nL 220.288512 151.530165 \nL 220.898459 151.661315 \nL 221.508407 151.575125 \nL 222.118354 151.274112 \nL 222.728301 151.40474 \nL 223.948195 151.236957 \nL 224.558142 150.941834 \nL 225.16809 151.071733 \nL 225.778037 150.779477 \nL 226.387984 150.69921 \nL 226.997931 150.41055 \nL 227.607878 150.54049 \nL 228.217825 150.46202 \nL 228.827773 150.797479 \nL 229.43772 150.924545 \nL 230.657614 150.767084 \nL 231.267561 151.096512 \nL 231.877508 151.220637 \nL 232.487456 151.546022 \nL 233.097403 151.063308 \nL 233.70735 151.186207 \nL 235.537191 150.3583 \nL 236.147139 150.284105 \nL 236.757086 150.407584 \nL 237.367033 150.333737 \nL 237.97698 150.45618 \nL 238.586927 150.187609 \nL 240.416769 149.972215 \nL 241.636663 150.214517 \nL 242.24661 149.952316 \nL 242.856557 149.882305 \nL 243.466505 150.192273 \nL 244.076452 149.932823 \nL 244.686399 149.863591 \nL 245.296346 149.982654 \nL 245.906293 149.726534 \nL 246.51624 149.285566 \nL 247.736135 148.783094 \nL 248.346082 148.903764 \nL 248.956029 148.287274 \nL 249.565976 148.225299 \nL 250.175923 148.346615 \nL 250.785871 147.738021 \nL 251.395818 148.041817 \nL 252.005765 147.619273 \nL 252.615712 147.56047 \nL 254.445554 147.922646 \nL 255.055501 147.68544 \nL 255.665448 147.982608 \nL 256.275395 147.569674 \nL 256.885342 147.512338 \nL 257.495289 147.279431 \nL 258.105237 147.223379 \nL 258.715184 147.517333 \nL 259.325131 147.286606 \nL 260.545025 147.175844 \nL 261.76492 146.377976 \nL 262.374867 146.325909 \nL 263.594761 146.563819 \nL 264.204708 146.341649 \nL 264.814655 146.459834 \nL 266.03455 146.020166 \nL 267.254444 146.255624 \nL 267.864391 146.53924 \nL 268.474338 145.988892 \nL 269.084286 145.9397 \nL 269.694233 146.221733 \nL 271.524074 146.07384 \nL 273.353916 146.903901 \nL 273.963863 146.853192 \nL 274.57381 147.126005 \nL 275.793704 147.024173 \nL 276.403652 146.653266 \nL 277.013599 146.604007 \nL 277.623546 146.873621 \nL 278.233493 146.982859 \nL 279.453387 146.883579 \nL 280.063335 146.676868 \nL 280.673282 146.628379 \nL 281.893176 146.844535 \nL 282.503123 146.484521 \nL 283.723018 147.009402 \nL 284.332965 146.806369 \nL 284.942912 146.912459 \nL 286.772753 146.769031 \nL 287.382701 146.874061 \nL 287.992648 146.826616 \nL 288.602595 146.930924 \nL 289.212542 147.185727 \nL 289.822489 147.288494 \nL 290.432436 146.93993 \nL 291.652331 147.145117 \nL 293.482172 147.004034 \nL 294.702067 147.206164 \nL 295.312014 147.453511 \nL 296.531908 147.651673 \nL 297.141855 147.604063 \nL 297.751802 147.702232 \nL 298.36175 147.509571 \nL 299.581644 147.416074 \nL 300.801538 147.036219 \nL 301.411485 147.277617 \nL 302.021433 147.374867 \nL 303.241327 147.283482 \nL 303.851274 147.37997 \nL 304.461221 147.334497 \nL 305.071168 146.865942 \nL 305.681116 146.681258 \nL 306.291063 146.778285 \nL 306.90101 146.454714 \nL 307.510957 146.551823 \nL 308.120904 146.509109 \nL 308.730851 146.327624 \nL 309.340799 146.424327 \nL 310.560693 146.34039 \nL 311.17064 146.023504 \nL 311.780587 146.120001 \nL 312.390534 146.079093 \nL 313.000482 145.901782 \nL 313.610429 145.861603 \nL 314.830323 146.324235 \nL 315.44027 146.418594 \nL 316.050217 146.242618 \nL 317.270112 146.161779 \nL 318.490006 146.349006 \nL 319.7099 146.26844 \nL 320.319848 146.361126 \nL 322.759636 146.201784 \nL 323.369583 146.293533 \nL 323.979531 146.254042 \nL 325.809372 146.526366 \nL 326.419319 146.745885 \nL 327.029266 146.705805 \nL 327.639214 146.794895 \nL 328.249161 146.75489 \nL 329.469055 146.93162 \nL 330.079002 146.891565 \nL 331.298897 146.557581 \nL 333.128738 146.820403 \nL 333.738685 147.033286 \nL 334.348632 147.119419 \nL 335.568527 147.040096 \nL 336.178474 147.12564 \nL 336.788421 146.961485 \nL 337.398368 147.046823 \nL 338.008315 147.007679 \nL 339.22821 147.177003 \nL 339.838157 147.137827 \nL 340.448104 146.852828 \nL 341.058051 146.814546 \nL 341.667998 147.021348 \nL 342.277946 146.860673 \nL 342.887893 147.066457 \nL 343.49784 146.906394 \nL 344.107787 146.868411 \nL 344.717734 147.072836 \nL 345.937629 146.996644 \nL 347.157523 146.440796 \nL 347.76747 146.524129 \nL 348.987365 146.928323 \nL 349.597312 146.891019 \nL 350.207259 146.972678 \nL 350.817206 147.172521 \nL 352.647048 146.706899 \nL 353.866942 146.868916 \nL 354.476889 147.066457 \nL 355.086836 147.146376 \nL 355.696783 147.109403 \nL 357.526625 147.346874 \nL 358.136572 147.19421 \nL 358.746519 147.388205 \nL 359.356466 147.236087 \nL 361.186308 147.469847 \nL 362.406202 147.851947 \nL 363.016149 147.814436 \nL 364.236044 148.07956 \nL 364.845991 148.041817 \nL 365.455938 148.116997 \nL 366.065885 148.079337 \nL 367.895727 147.743522 \nL 369.115621 148.004678 \nL 369.725568 147.967688 \nL 369.725568 147.967688 \n\" clip-path=\"url(#pe1eb056744)\" style=\"fill: none; stroke: #2ca02c; stroke-width: 1.5; stroke-linecap: square\"/>\n   </g>\n   <g id=\"line2d_19\">\n    <path d=\"M 65.361932 73.914541 \nL 65.971879 129.51 \nL 66.581826 110.978183 \nL 67.191773 143.408867 \nL 67.80172 151.748185 \nL 68.411668 166.573634 \nL 69.021615 161.278829 \nL 69.631562 171.206592 \nL 70.241509 172.75091 \nL 70.851456 168.426822 \nL 71.461403 169.94306 \nL 72.071351 152.674775 \nL 72.681298 146.616292 \nL 73.901192 151.748185 \nL 75.121086 162.213206 \nL 75.731034 154.219089 \nL 76.340981 155.844689 \nL 76.950928 154.527955 \nL 78.170822 142.145335 \nL 79.390717 145.725342 \nL 80.000664 149.524362 \nL 80.610611 146.616292 \nL 81.220558 141.864545 \nL 82.440452 144.846677 \nL 83.0504 148.041817 \nL 83.660347 147.444017 \nL 84.880241 142.987689 \nL 85.490188 144.226443 \nL 86.100135 143.805978 \nL 86.710083 141.864545 \nL 87.32003 144.535798 \nL 89.149871 143.408867 \nL 89.759819 145.781841 \nL 90.369766 144.070713 \nL 90.979713 145.025014 \nL 91.58966 143.408867 \nL 92.199607 144.335457 \nL 92.809554 144.013162 \nL 94.029449 141.092392 \nL 95.249343 142.852911 \nL 95.85929 144.771496 \nL 97.689132 147.012277 \nL 98.299079 146.69405 \nL 99.518973 144.140385 \nL 100.12892 143.888134 \nL 100.738868 144.586738 \nL 101.958762 144.092418 \nL 102.568709 144.753917 \nL 103.178656 144.511947 \nL 105.008498 146.357108 \nL 105.618445 147.765227 \nL 106.228392 148.314348 \nL 106.838339 148.041817 \nL 107.448286 146.982859 \nL 108.058234 148.302832 \nL 108.668181 147.269664 \nL 109.888075 146.789668 \nL 111.107969 149.261019 \nL 111.717917 149.00451 \nL 112.327864 147.329055 \nL 114.157705 146.669089 \nL 114.767652 145.103848 \nL 115.3776 144.915967 \nL 115.987547 146.056269 \nL 116.597494 146.51567 \nL 117.207441 145.671469 \nL 118.427335 145.304164 \nL 119.037283 146.376037 \nL 119.64723 146.806369 \nL 120.257177 146.616292 \nL 120.867124 145.22176 \nL 121.477071 145.052817 \nL 122.696966 145.896033 \nL 123.306913 145.725342 \nL 123.91686 146.131326 \nL 124.526807 145.394414 \nL 125.136754 145.795535 \nL 126.356649 145.47305 \nL 126.966596 144.771496 \nL 128.18649 144.478006 \nL 128.796437 145.394414 \nL 129.406384 144.720075 \nL 130.016332 145.097511 \nL 130.626279 144.438407 \nL 131.846173 145.177811 \nL 132.45612 143.534077 \nL 133.066067 142.912476 \nL 135.505856 142.450324 \nL 136.115803 141.864545 \nL 136.72575 142.702144 \nL 137.945645 143.408867 \nL 138.555592 143.293996 \nL 139.165539 144.092418 \nL 139.775486 143.973861 \nL 140.385433 142.960517 \nL 141.605328 142.747012 \nL 142.215275 143.518303 \nL 142.825222 143.843208 \nL 143.435169 142.439173 \nL 144.045116 142.767375 \nL 144.655064 141.81739 \nL 145.265011 141.724158 \nL 146.484905 142.371639 \nL 147.094852 143.100001 \nL 147.704799 143.408867 \nL 148.314747 143.307416 \nL 148.924694 142.804564 \nL 149.534641 143.508859 \nL 150.144588 143.011756 \nL 151.97443 142.728505 \nL 152.584377 143.408867 \nL 153.804271 143.218467 \nL 154.414218 142.747012 \nL 155.634113 142.569337 \nL 156.24406 143.223545 \nL 156.854007 142.028186 \nL 157.463954 142.311586 \nL 158.073901 142.954651 \nL 158.683848 142.867351 \nL 159.293796 143.498537 \nL 159.903743 143.052482 \nL 161.123637 141.47358 \nL 162.343531 141.324039 \nL 162.953479 141.941283 \nL 163.563426 141.864545 \nL 164.173373 141.447675 \nL 164.78332 141.713885 \nL 165.393267 142.313806 \nL 166.003214 142.571582 \nL 166.613162 141.827555 \nL 167.223109 142.416093 \nL 167.833056 142.339719 \nL 168.443003 142.918316 \nL 169.05295 142.839905 \nL 169.662897 143.408867 \nL 170.272845 143.328525 \nL 170.882792 143.568622 \nL 171.492739 143.488289 \nL 172.102686 143.092984 \nL 172.712633 143.016246 \nL 173.32258 142.628032 \nL 173.932528 142.865338 \nL 174.542475 142.791135 \nL 175.152422 142.4106 \nL 175.762369 142.645189 \nL 176.372316 142.269617 \nL 176.982263 142.804564 \nL 178.202158 142.661617 \nL 179.422052 143.113148 \nL 180.031999 142.747012 \nL 180.641946 142.969953 \nL 181.251894 142.899486 \nL 181.861841 143.408867 \nL 182.471788 143.048795 \nL 183.081735 142.405853 \nL 183.691682 142.339719 \nL 184.301629 142.841561 \nL 184.911577 143.056102 \nL 185.521524 143.549254 \nL 186.131471 143.758086 \nL 186.741418 143.408867 \nL 187.961312 144.372157 \nL 188.57126 143.751202 \nL 189.791154 143.612265 \nL 190.401101 143.813682 \nL 191.011048 143.207432 \nL 191.620995 143.408867 \nL 192.230943 143.076357 \nL 192.84089 142.482277 \nL 193.450837 142.42079 \nL 194.670731 143.343611 \nL 195.280678 142.759389 \nL 195.890626 142.697761 \nL 196.500573 142.894093 \nL 197.720467 142.771302 \nL 198.330414 142.964609 \nL 198.940361 142.903454 \nL 200.160256 143.283649 \nL 202.600044 143.039873 \nL 203.209992 143.225177 \nL 203.819939 143.652709 \nL 204.429886 143.590949 \nL 205.039833 144.013162 \nL 205.64978 144.191052 \nL 206.259727 144.127776 \nL 206.869675 144.542251 \nL 207.479622 144.478006 \nL 208.089569 144.177739 \nL 208.699516 144.11559 \nL 209.309463 144.288542 \nL 210.529358 144.164873 \nL 211.139305 143.872162 \nL 211.749252 144.043251 \nL 212.359199 144.442665 \nL 213.579093 144.320263 \nL 217.238776 145.299111 \nL 217.848724 145.679198 \nL 218.458671 145.615035 \nL 219.068618 145.331635 \nL 219.678565 145.488227 \nL 220.288512 144.989524 \nL 220.898459 144.929057 \nL 221.508407 144.652731 \nL 222.118354 145.025014 \nL 223.948195 144.207654 \nL 224.558142 144.575944 \nL 225.16809 144.518657 \nL 225.778037 144.251221 \nL 226.387984 144.405385 \nL 226.997931 144.349391 \nL 227.607878 144.502031 \nL 228.217825 144.031205 \nL 229.43772 144.335457 \nL 230.047667 144.280747 \nL 230.657614 144.635235 \nL 231.267561 143.96889 \nL 231.877508 144.321928 \nL 232.487456 144.470235 \nL 233.097403 144.818891 \nL 233.70735 144.964331 \nL 234.317297 144.908743 \nL 235.537191 145.592974 \nL 236.147139 145.140043 \nL 237.367033 145.029579 \nL 237.97698 144.779176 \nL 240.416769 145.339265 \nL 241.026716 145.284489 \nL 241.636663 145.421803 \nL 242.24661 145.367126 \nL 244.076452 145.772621 \nL 245.296346 146.414021 \nL 245.906293 146.544301 \nL 246.51624 146.860259 \nL 247.126188 146.988169 \nL 247.736135 147.300548 \nL 248.346082 147.426147 \nL 248.956029 147.366823 \nL 249.565976 147.674852 \nL 251.395818 148.041817 \nL 252.005765 147.800361 \nL 253.225659 148.041817 \nL 253.835606 147.802697 \nL 255.055501 148.398202 \nL 256.275395 148.277896 \nL 256.885342 148.394805 \nL 257.495289 148.335042 \nL 258.715184 148.566308 \nL 259.935078 148.447204 \nL 260.545025 148.561404 \nL 261.154972 148.329583 \nL 261.76492 148.443435 \nL 262.374867 148.041817 \nL 262.984814 148.155859 \nL 264.204708 148.721889 \nL 266.03455 149.052642 \nL 266.644497 149.329531 \nL 267.254444 149.102373 \nL 267.864391 149.043538 \nL 268.474338 149.317966 \nL 269.084286 149.092879 \nL 270.914127 148.919065 \nL 271.524074 149.025809 \nL 272.134021 148.477865 \nL 272.743969 148.259199 \nL 273.353916 148.204381 \nL 273.963863 147.987794 \nL 274.57381 148.09569 \nL 276.403652 147.935006 \nL 277.013599 147.722305 \nL 278.233493 147.618237 \nL 278.84344 147.408253 \nL 279.453387 147.357404 \nL 280.063335 147.464338 \nL 280.673282 147.727723 \nL 281.283229 147.363186 \nL 282.503123 147.574628 \nL 283.723018 147.47399 \nL 284.332965 147.732959 \nL 284.942912 147.37447 \nL 285.552859 147.32512 \nL 286.772753 147.532701 \nL 287.382701 147.483326 \nL 287.992648 147.738021 \nL 289.822489 147.137827 \nL 290.432436 147.390699 \nL 291.652331 146.696767 \nL 292.262278 146.501645 \nL 293.482172 146.707528 \nL 294.092119 146.513931 \nL 295.312014 146.423963 \nL 296.531908 146.627551 \nL 297.751802 146.537931 \nL 298.36175 146.638627 \nL 298.971697 146.449238 \nL 299.581644 146.40524 \nL 300.191591 146.505506 \nL 301.411485 146.417898 \nL 302.021433 146.517352 \nL 302.63138 146.473743 \nL 303.241327 146.572543 \nL 303.851274 146.387197 \nL 305.681116 146.681258 \nL 306.291063 146.637898 \nL 306.90101 146.454714 \nL 308.120904 146.927122 \nL 308.730851 146.605606 \nL 309.950746 146.52055 \nL 311.17064 146.986794 \nL 311.780587 146.806369 \nL 312.390534 146.763762 \nL 313.000482 146.857972 \nL 314.220376 146.77314 \nL 315.44027 146.418594 \nL 316.660165 146.605937 \nL 319.099953 146.441948 \nL 320.319848 146.095761 \nL 320.929795 146.188637 \nL 321.539742 146.149021 \nL 322.759636 145.80749 \nL 323.369583 145.76905 \nL 323.979531 145.861603 \nL 324.589478 145.562206 \nL 325.199425 145.654817 \nL 325.809372 145.3573 \nL 326.419319 145.32036 \nL 327.639214 145.504978 \nL 328.249161 145.467955 \nL 328.859108 145.559497 \nL 329.469055 145.778718 \nL 330.079002 145.869125 \nL 330.688949 145.831605 \nL 331.908844 146.264795 \nL 333.738685 146.150819 \nL 334.95858 145.824696 \nL 335.568527 145.787947 \nL 336.178474 145.876308 \nL 336.788421 146.088918 \nL 338.008315 146.014905 \nL 338.618263 146.101966 \nL 339.838157 146.028384 \nL 340.448104 146.11484 \nL 341.058051 146.323639 \nL 341.667998 146.286599 \nL 342.277946 146.005353 \nL 342.887893 146.091105 \nL 344.107787 146.504246 \nL 344.717734 146.224972 \nL 345.327681 146.188637 \nL 346.547576 146.597785 \nL 347.76747 146.763762 \nL 348.377417 146.367977 \nL 348.987365 146.331799 \nL 350.817206 146.579825 \nL 351.427153 146.780083 \nL 352.0371 146.861452 \nL 352.647048 146.589111 \nL 353.256995 146.553008 \nL 353.866942 146.165184 \nL 354.476889 146.247158 \nL 355.696783 146.176981 \nL 356.306731 146.374729 \nL 358.136572 146.269542 \nL 358.746519 146.119429 \nL 359.966414 146.050801 \nL 360.576361 146.245956 \nL 361.796255 146.177221 \nL 363.016149 146.450133 \nL 363.626097 146.529017 \nL 364.236044 146.381124 \nL 367.28578 146.771492 \nL 368.505674 146.702168 \nL 369.115621 146.77913 \nL 369.725568 146.522207 \nL 369.725568 146.522207 \n\" clip-path=\"url(#pe1eb056744)\" style=\"fill: none; stroke: #d62728; stroke-width: 1.5; stroke-linecap: square\"/>\n   </g>\n   <g id=\"line2d_20\">\n    <path d=\"M 65.361932 240.700909 \nL 65.971879 157.307725 \nL 66.581826 166.573634 \nL 67.191773 157.307725 \nL 67.80172 162.867274 \nL 68.411668 166.573634 \nL 69.021615 169.221036 \nL 69.631562 164.257159 \nL 70.241509 154.219089 \nL 71.461403 129.51 \nL 72.071351 138.775908 \nL 72.681298 138.063146 \nL 73.901192 129.51 \nL 74.511139 132.984721 \nL 75.121086 132.780321 \nL 75.731034 138.775908 \nL 76.340981 141.214304 \nL 76.950928 140.629088 \nL 77.560875 137.452207 \nL 78.170822 142.145335 \nL 78.780769 139.178777 \nL 79.390717 138.775908 \nL 80.610611 142.339719 \nL 81.220558 143.923641 \nL 81.830505 141.423311 \nL 82.440452 142.929591 \nL 83.0504 140.629088 \nL 83.660347 140.270408 \nL 84.270294 138.19679 \nL 84.880241 141.30298 \nL 86.100135 137.452207 \nL 86.710083 138.775908 \nL 87.32003 137.022903 \nL 87.929977 139.751268 \nL 88.539924 139.488671 \nL 89.149871 140.629088 \nL 89.759819 140.357891 \nL 90.979713 142.439173 \nL 91.58966 144.672399 \nL 92.199607 145.570913 \nL 92.809554 142.804564 \nL 93.419502 143.704586 \nL 94.639396 147.663619 \nL 95.249343 148.412459 \nL 95.85929 148.041817 \nL 97.689132 150.100913 \nL 98.299079 149.726534 \nL 99.518973 150.967897 \nL 100.12892 150.597934 \nL 100.738868 149.298216 \nL 101.348815 149.895005 \nL 101.958762 149.560822 \nL 102.568709 147.444017 \nL 103.178656 148.041817 \nL 103.788603 147.752262 \nL 104.398551 149.182243 \nL 105.008498 148.041817 \nL 105.618445 146.105661 \nL 106.228392 145.861603 \nL 106.838339 147.236087 \nL 107.448286 147.777082 \nL 108.058234 146.736764 \nL 108.668181 144.953181 \nL 109.888075 146.038383 \nL 111.717917 143.228359 \nL 112.937811 144.288542 \nL 113.547758 142.713924 \nL 114.157705 142.550913 \nL 114.767652 143.747863 \nL 116.597494 143.24535 \nL 117.817388 144.207654 \nL 118.427335 145.304164 \nL 119.037283 144.502031 \nL 119.64723 144.335457 \nL 120.867124 145.22176 \nL 121.477071 144.455017 \nL 122.087018 144.887469 \nL 122.696966 144.725601 \nL 123.306913 145.146223 \nL 123.91686 144.985026 \nL 124.526807 144.259812 \nL 125.136754 144.110826 \nL 125.746701 143.408867 \nL 126.356649 144.372157 \nL 128.796437 141.688054 \nL 129.406384 142.09765 \nL 130.016332 141.980012 \nL 130.626279 140.835005 \nL 131.236226 140.731102 \nL 131.846173 141.639922 \nL 132.45612 141.530643 \nL 133.676015 143.285869 \nL 134.285962 143.165025 \nL 135.505856 144.846677 \nL 137.945645 144.335457 \nL 138.555592 144.672399 \nL 139.165539 144.548116 \nL 139.775486 145.329846 \nL 140.385433 145.650617 \nL 140.995381 145.521488 \nL 141.605328 145.835648 \nL 142.215275 145.7071 \nL 143.435169 146.317931 \nL 144.655064 146.061323 \nL 145.265011 146.778285 \nL 145.874958 146.648452 \nL 146.484905 146.935439 \nL 147.094852 147.630001 \nL 148.314747 147.365473 \nL 148.924694 147.638956 \nL 149.534641 146.708597 \nL 150.144588 146.585748 \nL 151.364482 147.128283 \nL 153.194324 146.763762 \nL 153.804271 146.264795 \nL 154.414218 146.529017 \nL 155.024165 146.038383 \nL 155.634113 146.300575 \nL 156.24406 146.188637 \nL 156.854007 146.446363 \nL 157.463954 145.603421 \nL 158.073901 146.224972 \nL 158.683848 146.116439 \nL 159.293796 145.650617 \nL 159.903743 145.547153 \nL 160.51369 145.799114 \nL 161.733584 145.594225 \nL 162.343531 145.146223 \nL 162.953479 145.739732 \nL 163.563426 145.296369 \nL 164.173373 145.199516 \nL 166.613162 146.15535 \nL 167.223109 145.725342 \nL 169.05295 146.416225 \nL 169.662897 145.025014 \nL 170.272845 144.935328 \nL 171.492739 145.394414 \nL 172.102686 145.304164 \nL 173.32258 145.751371 \nL 173.932528 145.660633 \nL 174.542475 145.879771 \nL 175.152422 146.403649 \nL 175.762369 146.616292 \nL 176.372316 146.219016 \nL 178.812105 147.050816 \nL 179.422052 146.957509 \nL 180.641946 147.359069 \nL 182.471788 147.081625 \nL 183.691682 147.471612 \nL 184.301629 147.37997 \nL 185.521524 148.322607 \nL 186.131471 147.948692 \nL 186.741418 148.134477 \nL 187.351365 147.765227 \nL 189.181207 148.314348 \nL 189.791154 147.951418 \nL 190.401101 148.131777 \nL 191.011048 148.578975 \nL 191.620995 148.487292 \nL 192.230943 148.662507 \nL 194.670731 148.302832 \nL 195.280678 148.734597 \nL 195.890626 148.903764 \nL 196.500573 148.556591 \nL 197.11052 148.981223 \nL 197.720467 148.381857 \nL 198.940361 148.210288 \nL 199.550309 148.628797 \nL 200.160256 148.542681 \nL 201.38015 148.869135 \nL 201.990097 148.288906 \nL 202.600044 148.697814 \nL 203.209992 148.36837 \nL 203.819939 148.773335 \nL 204.429886 148.689215 \nL 205.039833 148.364112 \nL 205.64978 148.282494 \nL 206.259727 147.961939 \nL 206.869675 148.121355 \nL 207.479622 147.804229 \nL 208.089569 147.962958 \nL 208.699516 147.88477 \nL 209.309463 148.041817 \nL 209.91941 147.730358 \nL 210.529358 147.886742 \nL 211.139305 147.810169 \nL 212.359199 148.118398 \nL 212.969146 148.499396 \nL 213.579093 147.965866 \nL 214.189041 147.890536 \nL 215.408935 148.191872 \nL 216.018882 147.892367 \nL 216.628829 147.371992 \nL 217.238776 147.522925 \nL 217.848724 147.229667 \nL 222.118354 148.25731 \nL 222.728301 148.614234 \nL 223.338248 148.754579 \nL 224.558142 148.607681 \nL 225.16809 148.746452 \nL 225.778037 149.09476 \nL 226.387984 149.230657 \nL 226.997931 149.574524 \nL 228.217825 149.424793 \nL 228.827773 149.764104 \nL 230.657614 150.1539 \nL 231.267561 150.07828 \nL 232.487456 150.333025 \nL 233.70735 149.781269 \nL 236.147139 150.284105 \nL 236.757086 150.210432 \nL 237.367033 150.333737 \nL 238.586927 150.187609 \nL 239.196874 150.309696 \nL 239.806822 150.237224 \nL 240.416769 149.972215 \nL 241.026716 150.093789 \nL 241.636663 150.406225 \nL 242.24661 150.334416 \nL 242.856557 150.643887 \nL 243.466505 150.192273 \nL 244.076452 150.50012 \nL 244.686399 150.428966 \nL 245.296346 150.546123 \nL 245.906293 150.288098 \nL 246.51624 149.845249 \nL 248.346082 149.642572 \nL 249.565976 150.24362 \nL 250.175923 149.992537 \nL 250.785871 150.107665 \nL 251.395818 150.403715 \nL 252.005765 150.154571 \nL 253.225659 150.020944 \nL 253.835606 150.134125 \nL 254.445554 149.531512 \nL 255.055501 149.645538 \nL 255.665448 149.581202 \nL 256.275395 149.694341 \nL 258.105237 149.50332 \nL 258.715184 148.915958 \nL 259.935078 148.794675 \nL 260.545025 148.388211 \nL 261.76492 148.271319 \nL 262.374867 148.385005 \nL 262.984814 148.326923 \nL 263.594761 148.610282 \nL 264.204708 148.721889 \nL 264.814655 149.002306 \nL 265.424603 148.943065 \nL 266.644497 148.489719 \nL 267.254444 148.432549 \nL 267.864391 148.208772 \nL 268.474338 148.152786 \nL 269.084286 147.931179 \nL 269.694233 147.876353 \nL 270.914127 148.096651 \nL 271.524074 147.877819 \nL 272.743969 148.096162 \nL 273.353916 147.879261 \nL 273.963863 148.149878 \nL 274.57381 147.934079 \nL 275.793704 147.827575 \nL 276.403652 148.095226 \nL 277.013599 148.041817 \nL 277.623546 147.829422 \nL 278.233493 147.777082 \nL 278.84344 147.883428 \nL 279.453387 147.673287 \nL 280.063335 147.779327 \nL 281.283229 147.676402 \nL 281.893176 147.46921 \nL 282.503123 147.730358 \nL 283.11307 147.679467 \nL 283.723018 147.47399 \nL 285.552859 147.785855 \nL 286.772753 147.37997 \nL 287.382701 147.33101 \nL 287.992648 146.826616 \nL 288.602595 146.779436 \nL 289.212542 147.034653 \nL 291.042384 146.443389 \nL 291.652331 146.397867 \nL 292.262278 146.501645 \nL 292.872225 146.307559 \nL 293.482172 146.262765 \nL 294.092119 146.513931 \nL 294.702067 146.468831 \nL 295.312014 146.276882 \nL 296.531908 146.481249 \nL 297.141855 146.436704 \nL 297.751802 146.537931 \nL 298.36175 146.783786 \nL 298.971697 146.594024 \nL 299.581644 146.838454 \nL 300.191591 146.793561 \nL 301.411485 146.991044 \nL 302.021433 146.803188 \nL 303.851274 147.096322 \nL 305.071168 147.571472 \nL 305.681116 147.525742 \nL 306.291063 147.761035 \nL 306.90101 147.855104 \nL 307.510957 147.250262 \nL 308.120904 147.066457 \nL 308.730851 147.022566 \nL 309.340799 147.117538 \nL 309.950746 147.350337 \nL 310.560693 147.444017 \nL 313.000482 147.267767 \nL 314.220376 147.45279 \nL 314.830323 147.273425 \nL 316.660165 147.548234 \nL 317.270112 147.504667 \nL 317.880059 147.595273 \nL 318.490006 147.418153 \nL 319.099953 147.375207 \nL 319.7099 147.598471 \nL 320.319848 147.289936 \nL 321.539742 147.205468 \nL 322.759636 147.384659 \nL 323.369583 146.949142 \nL 323.979531 147.038919 \nL 324.589478 146.867267 \nL 325.199425 146.436016 \nL 325.809372 146.526366 \nL 326.419319 146.357108 \nL 327.029266 145.930057 \nL 327.639214 146.14994 \nL 328.249161 146.240116 \nL 328.859108 146.073078 \nL 329.469055 145.778718 \nL 331.298897 146.048697 \nL 331.908844 146.264795 \nL 333.738685 145.772621 \nL 335.568527 146.038383 \nL 336.178474 146.001236 \nL 336.788421 146.088918 \nL 337.398368 145.927447 \nL 338.008315 145.890805 \nL 339.22821 146.065092 \nL 339.838157 146.028384 \nL 340.448104 145.868844 \nL 341.058051 145.955457 \nL 341.667998 145.919229 \nL 342.277946 146.127548 \nL 342.887893 145.969184 \nL 343.49784 146.054819 \nL 344.717734 146.467224 \nL 345.327681 146.430358 \nL 345.937629 146.273054 \nL 347.157523 146.680952 \nL 347.76747 146.643946 \nL 348.377417 146.487537 \nL 348.987365 146.451102 \nL 349.597312 146.53388 \nL 350.207259 146.378705 \nL 350.817206 145.98712 \nL 351.427153 145.95206 \nL 352.0371 145.681078 \nL 352.647048 145.882389 \nL 355.086836 145.74481 \nL 355.696783 145.827322 \nL 356.306731 145.793191 \nL 357.526625 145.956989 \nL 358.746519 146.350116 \nL 359.356466 146.430358 \nL 361.186308 146.325909 \nL 361.796255 146.177221 \nL 363.626097 146.075174 \nL 364.845991 146.233836 \nL 365.455938 146.199912 \nL 366.065885 146.053585 \nL 367.28578 146.211054 \nL 368.505674 145.920704 \nL 369.725568 146.188637 \nL 369.725568 146.188637 \n\" clip-path=\"url(#pe1eb056744)\" style=\"fill: none; stroke: #9467bd; stroke-width: 1.5; stroke-linecap: square\"/>\n   </g>\n   <g id=\"line2d_21\">\n    <path d=\"M 65.361932 185.105455 \nL 65.971879 212.903182 \nL 66.581826 203.637271 \nL 67.191773 212.903182 \nL 67.80172 196.224547 \nL 68.411668 175.839546 \nL 69.021615 161.278829 \nL 69.631562 171.206592 \nL 70.241509 172.75091 \nL 71.461403 174.997192 \nL 72.681298 176.552308 \nL 73.291245 181.134351 \nL 73.901192 181.39909 \nL 74.511139 174.681309 \nL 75.121086 175.294493 \nL 76.340981 170.475074 \nL 76.950928 171.206592 \nL 77.560875 174.515845 \nL 78.170822 172.470124 \nL 78.780769 175.436681 \nL 79.390717 175.839546 \nL 80.000664 169.538725 \nL 80.610611 167.999158 \nL 81.220558 168.63273 \nL 82.440452 165.934611 \nL 83.0504 168.426822 \nL 84.880241 169.94306 \nL 85.490188 168.753847 \nL 86.100135 169.221036 \nL 86.710083 165.02932 \nL 87.32003 159.561595 \nL 87.929977 160.233805 \nL 89.149871 164.257159 \nL 89.759819 164.765653 \nL 90.369766 163.926231 \nL 90.979713 164.418778 \nL 91.58966 166.152456 \nL 92.199607 165.338186 \nL 92.809554 166.976502 \nL 94.029449 165.415396 \nL 94.639396 163.548033 \nL 96.469237 161.584298 \nL 98.909026 163.264385 \nL 100.12892 164.017525 \nL 100.738868 163.432649 \nL 103.178656 164.808699 \nL 103.788603 165.994515 \nL 105.008498 166.573634 \nL 105.618445 166.020445 \nL 106.228392 167.118687 \nL 106.838339 167.379371 \nL 107.448286 166.838377 \nL 108.668181 167.345795 \nL 109.888075 166.323205 \nL 110.498022 167.314911 \nL 111.107969 167.548994 \nL 111.717917 168.49902 \nL 112.327864 167.286396 \nL 112.937811 166.808214 \nL 113.547758 167.036937 \nL 114.157705 167.946362 \nL 114.767652 168.155625 \nL 115.3776 167.69001 \nL 115.987547 168.55919 \nL 116.597494 168.753847 \nL 117.207441 168.297528 \nL 117.817388 169.129751 \nL 119.64723 169.66227 \nL 120.257177 170.442914 \nL 120.867124 169.997994 \nL 121.477071 170.160442 \nL 122.087018 168.545106 \nL 124.526807 169.221036 \nL 125.136754 167.135206 \nL 125.746701 167.314911 \nL 126.966596 166.573634 \nL 128.796437 167.103121 \nL 129.406384 166.748467 \nL 130.016332 165.880862 \nL 130.626279 166.573634 \nL 131.236226 166.743654 \nL 131.846173 166.405163 \nL 132.45612 166.573634 \nL 133.066067 166.242715 \nL 133.676015 165.425652 \nL 134.285962 166.085958 \nL 135.505856 165.455335 \nL 136.115803 165.623284 \nL 136.72575 166.25954 \nL 137.335698 166.417904 \nL 137.945645 165.183749 \nL 138.555592 164.888924 \nL 139.165539 165.510335 \nL 139.775486 164.765653 \nL 140.385433 164.481334 \nL 140.995381 164.646325 \nL 141.605328 163.926231 \nL 142.825222 164.257159 \nL 143.435169 163.987801 \nL 144.045116 164.577904 \nL 144.655064 164.734603 \nL 145.265011 165.310102 \nL 145.874958 165.458939 \nL 146.484905 165.190666 \nL 147.094852 164.514546 \nL 147.704799 164.665951 \nL 148.314747 164.409334 \nL 148.924694 163.753577 \nL 149.534641 163.907185 \nL 150.144588 163.661496 \nL 152.584377 164.257159 \nL 153.194324 164.017525 \nL 153.804271 163.400381 \nL 154.414218 163.548033 \nL 155.024165 163.318051 \nL 155.634113 163.46427 \nL 156.24406 162.496639 \nL 156.854007 162.646363 \nL 158.073901 162.213206 \nL 159.903743 163.722585 \nL 160.51369 163.504673 \nL 161.123637 163.64139 \nL 162.343531 164.60463 \nL 162.953479 163.696025 \nL 163.563426 163.828186 \nL 164.173373 164.299798 \nL 165.393267 163.204215 \nL 166.613162 163.466507 \nL 167.223109 162.933457 \nL 167.833056 163.064657 \nL 169.05295 162.021961 \nL 170.272845 162.288826 \nL 170.882792 162.100439 \nL 172.102686 161.098329 \nL 172.712633 161.548062 \nL 173.32258 161.680405 \nL 174.542475 161.32296 \nL 175.762369 160.36242 \nL 176.372316 160.193833 \nL 176.982263 159.422774 \nL 177.592211 158.359533 \nL 179.422052 158.786328 \nL 180.031999 158.631426 \nL 180.641946 157.892941 \nL 181.251894 158.326495 \nL 181.861841 158.176407 \nL 183.691682 158.5907 \nL 184.301629 158.442327 \nL 185.521524 159.273225 \nL 186.131471 159.123659 \nL 187.351365 159.382189 \nL 187.961312 159.784751 \nL 188.57126 159.909489 \nL 189.181207 159.215416 \nL 189.791154 159.612909 \nL 190.401101 159.736652 \nL 191.011048 160.12779 \nL 192.230943 159.302783 \nL 192.84089 159.690392 \nL 193.450837 159.547354 \nL 194.060784 159.667917 \nL 194.670731 159.265313 \nL 195.280678 159.645856 \nL 195.890626 159.505692 \nL 196.500573 159.881596 \nL 197.11052 159.741631 \nL 197.720467 160.113003 \nL 198.330414 159.465546 \nL 198.940361 159.582091 \nL 199.550309 158.942886 \nL 200.160256 159.060739 \nL 201.38015 158.79689 \nL 201.990097 158.913816 \nL 202.600044 158.783718 \nL 203.209992 158.899666 \nL 203.819939 158.770769 \nL 204.429886 158.885765 \nL 205.039833 158.758045 \nL 205.64978 158.872104 \nL 206.259727 158.745544 \nL 206.869675 158.381462 \nL 207.479622 158.73325 \nL 208.089569 158.608901 \nL 208.699516 158.721171 \nL 209.309463 158.128756 \nL 209.91941 158.242103 \nL 210.529358 158.121888 \nL 211.139305 158.465971 \nL 211.749252 158.576501 \nL 212.359199 158.915862 \nL 212.969146 158.794852 \nL 213.579093 158.902681 \nL 214.798988 158.663719 \nL 215.408935 158.095519 \nL 216.018882 157.756075 \nL 216.628829 157.865918 \nL 217.238776 157.752488 \nL 217.848724 157.861469 \nL 218.458671 157.528346 \nL 219.068618 157.857095 \nL 219.678565 157.964369 \nL 220.288512 158.288826 \nL 220.898459 158.176407 \nL 221.508407 158.497518 \nL 222.118354 158.385157 \nL 223.338248 159.018356 \nL 224.558142 158.793104 \nL 225.16809 157.836202 \nL 225.778037 158.15008 \nL 226.387984 157.832217 \nL 226.997931 158.143751 \nL 227.607878 157.828282 \nL 228.217825 158.137512 \nL 228.827773 157.411064 \nL 229.43772 156.895909 \nL 230.047667 156.589702 \nL 230.657614 156.490149 \nL 231.267561 156.798609 \nL 231.877508 156.901924 \nL 232.487456 156.600149 \nL 233.70735 157.207377 \nL 234.317297 157.307725 \nL 234.927244 157.606625 \nL 235.537191 157.307725 \nL 236.757086 157.110582 \nL 237.97698 156.524695 \nL 238.586927 156.429905 \nL 239.196874 156.530171 \nL 241.026716 156.249687 \nL 241.636663 155.774057 \nL 242.24661 156.065907 \nL 243.466505 155.884636 \nL 244.076452 155.605826 \nL 244.686399 155.140452 \nL 245.296346 154.86604 \nL 246.51624 155.44211 \nL 247.126188 155.541316 \nL 248.346082 154.998946 \nL 250.785871 155.393788 \nL 252.005765 155.949536 \nL 252.615712 155.863694 \nL 254.445554 156.145768 \nL 255.665448 156.686058 \nL 256.275395 156.776565 \nL 256.885342 157.04299 \nL 257.495289 156.955855 \nL 258.105237 157.044655 \nL 258.715184 156.958075 \nL 259.935078 157.133994 \nL 260.545025 157.394322 \nL 261.154972 157.480388 \nL 261.76492 157.221667 \nL 262.374867 157.136139 \nL 262.984814 156.709006 \nL 263.594761 156.966649 \nL 265.424603 156.716288 \nL 266.03455 156.802312 \nL 266.644497 156.551901 \nL 267.254444 156.637901 \nL 267.864391 156.389486 \nL 269.084286 156.560923 \nL 269.694233 156.480415 \nL 270.914127 156.649797 \nL 271.524074 156.897732 \nL 272.743969 157.063171 \nL 273.963863 156.578345 \nL 274.57381 156.661271 \nL 275.183757 156.58257 \nL 275.793704 156.665007 \nL 276.403652 156.426534 \nL 277.013599 156.508946 \nL 277.623546 156.272287 \nL 278.84344 156.436574 \nL 279.453387 156.675959 \nL 280.673282 156.522483 \nL 281.283229 156.602999 \nL 281.893176 156.214561 \nL 284.332965 155.91784 \nL 284.942912 156.152702 \nL 285.552859 155.92552 \nL 286.162806 156.005903 \nL 286.772753 155.933117 \nL 287.382701 156.165352 \nL 287.992648 155.94063 \nL 289.212542 156.099135 \nL 289.822489 156.328405 \nL 292.262278 156.637006 \nL 294.092119 156.420569 \nL 294.702067 156.496652 \nL 295.312014 156.425258 \nL 295.921961 156.207553 \nL 296.531908 156.283603 \nL 297.141855 156.505169 \nL 297.751802 156.580043 \nL 298.36175 156.364202 \nL 298.971697 156.439051 \nL 300.191591 156.011462 \nL 302.021433 156.235836 \nL 302.63138 156.167307 \nL 303.241327 156.24132 \nL 304.461221 155.822355 \nL 305.071168 156.037781 \nL 305.681116 156.111371 \nL 306.291063 155.903806 \nL 306.90101 155.977355 \nL 307.510957 156.19023 \nL 308.120904 156.123367 \nL 308.730851 156.334809 \nL 309.340799 156.406552 \nL 309.950746 156.339647 \nL 311.780587 156.552729 \nL 312.390534 156.349182 \nL 313.000482 156.556441 \nL 313.610429 156.490149 \nL 314.220376 156.152321 \nL 315.44027 156.293213 \nL 316.050217 156.093262 \nL 316.660165 156.163513 \nL 317.270112 156.099135 \nL 317.880059 155.901097 \nL 318.490006 155.837656 \nL 319.099953 156.041161 \nL 319.7099 156.1107 \nL 320.319848 156.047209 \nL 322.759636 156.321993 \nL 323.369583 156.521 \nL 323.979531 156.457443 \nL 325.199425 156.852027 \nL 325.809372 156.788146 \nL 327.029266 156.919851 \nL 328.249161 156.792959 \nL 328.859108 156.986739 \nL 330.688949 157.180212 \nL 331.298897 157.116895 \nL 331.908844 157.1808 \nL 335.568527 156.806869 \nL 336.178474 156.495658 \nL 336.788421 156.310503 \nL 337.398368 156.374922 \nL 339.22821 156.195822 \nL 339.838157 156.259918 \nL 340.448104 156.446739 \nL 341.058051 156.387274 \nL 341.667998 156.205614 \nL 344.107787 156.458014 \nL 344.717734 156.641554 \nL 345.327681 156.58257 \nL 345.937629 156.644446 \nL 346.547576 156.104363 \nL 347.76747 155.989732 \nL 348.377417 156.052345 \nL 348.987365 155.876087 \nL 350.207259 155.407026 \nL 350.817206 155.588893 \nL 351.427153 155.41512 \nL 352.0371 155.596191 \nL 352.647048 155.658713 \nL 353.256995 155.603432 \nL 353.866942 155.665672 \nL 354.476889 155.610606 \nL 355.086836 155.672565 \nL 355.696783 155.617722 \nL 356.306731 155.330487 \nL 356.916678 155.392644 \nL 357.526625 155.338721 \nL 358.136572 155.169439 \nL 358.746519 155.231547 \nL 359.966414 155.125266 \nL 360.576361 154.957814 \nL 361.796255 155.195783 \nL 363.016149 155.090729 \nL 363.626097 154.925066 \nL 366.675832 155.229915 \nL 367.28578 155.178063 \nL 368.505674 155.409892 \nL 369.115621 155.246574 \nL 369.725568 155.306288 \nL 369.725568 155.306288 \n\" clip-path=\"url(#pe1eb056744)\" style=\"fill: none; stroke: #8c564b; stroke-width: 1.5; stroke-linecap: square\"/>\n   </g>\n   <g id=\"line2d_22\">\n    <path d=\"M 50.14375 147.856501 \nL 384.94375 147.856501 \n\" clip-path=\"url(#pe1eb056744)\" style=\"fill: none; stroke-dasharray: 5.55,2.4; stroke-dashoffset: 0; stroke: #000000; stroke-width: 1.5\"/>\n   </g>\n   <g id=\"patch_3\">\n    <path d=\"M 50.14375 251.82 \nL 50.14375 7.2 \n\" style=\"fill: none; stroke: #000000; stroke-width: 0.8; stroke-linejoin: miter; stroke-linecap: square\"/>\n   </g>\n   <g id=\"patch_4\">\n    <path d=\"M 384.94375 251.82 \nL 384.94375 7.2 \n\" style=\"fill: none; stroke: #000000; stroke-width: 0.8; stroke-linejoin: miter; stroke-linecap: square\"/>\n   </g>\n   <g id=\"patch_5\">\n    <path d=\"M 50.14375 251.82 \nL 384.94375 251.82 \n\" style=\"fill: none; stroke: #000000; stroke-width: 0.8; stroke-linejoin: miter; stroke-linecap: square\"/>\n   </g>\n   <g id=\"patch_6\">\n    <path d=\"M 50.14375 7.2 \nL 384.94375 7.2 \n\" style=\"fill: none; stroke: #000000; stroke-width: 0.8; stroke-linejoin: miter; stroke-linecap: square\"/>\n   </g>\n   <g id=\"legend_1\">\n    <g id=\"patch_7\">\n     <path d=\"M 302.089063 103.26875 \nL 377.94375 103.26875 \nQ 379.94375 103.26875 379.94375 101.26875 \nL 379.94375 14.2 \nQ 379.94375 12.2 377.94375 12.2 \nL 302.089063 12.2 \nQ 300.089063 12.2 300.089063 14.2 \nL 300.089063 101.26875 \nQ 300.089063 103.26875 302.089063 103.26875 \nz\n\" style=\"fill: #ffffff; opacity: 0.8; stroke: #cccccc; stroke-linejoin: miter\"/>\n    </g>\n    <g id=\"line2d_23\">\n     <path d=\"M 304.089063 20.298437 \nL 314.089063 20.298437 \nL 324.089063 20.298437 \n\" style=\"fill: none; stroke: #1f77b4; stroke-width: 1.5; stroke-linecap: square\"/>\n    </g>\n    <g id=\"text_18\">\n     <!-- P(die=1) -->\n     <g transform=\"translate(332.089063 23.798437)scale(0.1 -0.1)\">\n      <defs>\n       <path id=\"DejaVuSans-50\" d=\"M 1259 4147 \nL 1259 2394 \nL 2053 2394 \nQ 2494 2394 2734 2622 \nQ 2975 2850 2975 3272 \nQ 2975 3691 2734 3919 \nQ 2494 4147 2053 4147 \nL 1259 4147 \nz\nM 628 4666 \nL 2053 4666 \nQ 2838 4666 3239 4311 \nQ 3641 3956 3641 3272 \nQ 3641 2581 3239 2228 \nQ 2838 1875 2053 1875 \nL 1259 1875 \nL 1259 0 \nL 628 0 \nL 628 4666 \nz\n\" transform=\"scale(0.015625)\"/>\n       <path id=\"DejaVuSans-28\" d=\"M 1984 4856 \nQ 1566 4138 1362 3434 \nQ 1159 2731 1159 2009 \nQ 1159 1288 1364 580 \nQ 1569 -128 1984 -844 \nL 1484 -844 \nQ 1016 -109 783 600 \nQ 550 1309 550 2009 \nQ 550 2706 781 3412 \nQ 1013 4119 1484 4856 \nL 1984 4856 \nz\n\" transform=\"scale(0.015625)\"/>\n       <path id=\"DejaVuSans-3d\" d=\"M 678 2906 \nL 4684 2906 \nL 4684 2381 \nL 678 2381 \nL 678 2906 \nz\nM 678 1631 \nL 4684 1631 \nL 4684 1100 \nL 678 1100 \nL 678 1631 \nz\n\" transform=\"scale(0.015625)\"/>\n       <path id=\"DejaVuSans-29\" d=\"M 513 4856 \nL 1013 4856 \nQ 1481 4119 1714 3412 \nQ 1947 2706 1947 2009 \nQ 1947 1309 1714 600 \nQ 1481 -109 1013 -844 \nL 513 -844 \nQ 928 -128 1133 580 \nQ 1338 1288 1338 2009 \nQ 1338 2731 1133 3434 \nQ 928 4138 513 4856 \nz\n\" transform=\"scale(0.015625)\"/>\n      </defs>\n      <use xlink:href=\"#DejaVuSans-50\"/>\n      <use xlink:href=\"#DejaVuSans-28\" x=\"60.302734\"/>\n      <use xlink:href=\"#DejaVuSans-64\" x=\"99.316406\"/>\n      <use xlink:href=\"#DejaVuSans-69\" x=\"162.792969\"/>\n      <use xlink:href=\"#DejaVuSans-65\" x=\"190.576172\"/>\n      <use xlink:href=\"#DejaVuSans-3d\" x=\"252.099609\"/>\n      <use xlink:href=\"#DejaVuSans-31\" x=\"335.888672\"/>\n      <use xlink:href=\"#DejaVuSans-29\" x=\"399.511719\"/>\n     </g>\n    </g>\n    <g id=\"line2d_24\">\n     <path d=\"M 304.089063 34.976562 \nL 314.089063 34.976562 \nL 324.089063 34.976562 \n\" style=\"fill: none; stroke: #ff7f0e; stroke-width: 1.5; stroke-linecap: square\"/>\n    </g>\n    <g id=\"text_19\">\n     <!-- P(die=2) -->\n     <g transform=\"translate(332.089063 38.476562)scale(0.1 -0.1)\">\n      <use xlink:href=\"#DejaVuSans-50\"/>\n      <use xlink:href=\"#DejaVuSans-28\" x=\"60.302734\"/>\n      <use xlink:href=\"#DejaVuSans-64\" x=\"99.316406\"/>\n      <use xlink:href=\"#DejaVuSans-69\" x=\"162.792969\"/>\n      <use xlink:href=\"#DejaVuSans-65\" x=\"190.576172\"/>\n      <use xlink:href=\"#DejaVuSans-3d\" x=\"252.099609\"/>\n      <use xlink:href=\"#DejaVuSans-32\" x=\"335.888672\"/>\n      <use xlink:href=\"#DejaVuSans-29\" x=\"399.511719\"/>\n     </g>\n    </g>\n    <g id=\"line2d_25\">\n     <path d=\"M 304.089063 49.654687 \nL 314.089063 49.654687 \nL 324.089063 49.654687 \n\" style=\"fill: none; stroke: #2ca02c; stroke-width: 1.5; stroke-linecap: square\"/>\n    </g>\n    <g id=\"text_20\">\n     <!-- P(die=3) -->\n     <g transform=\"translate(332.089063 53.154687)scale(0.1 -0.1)\">\n      <use xlink:href=\"#DejaVuSans-50\"/>\n      <use xlink:href=\"#DejaVuSans-28\" x=\"60.302734\"/>\n      <use xlink:href=\"#DejaVuSans-64\" x=\"99.316406\"/>\n      <use xlink:href=\"#DejaVuSans-69\" x=\"162.792969\"/>\n      <use xlink:href=\"#DejaVuSans-65\" x=\"190.576172\"/>\n      <use xlink:href=\"#DejaVuSans-3d\" x=\"252.099609\"/>\n      <use xlink:href=\"#DejaVuSans-33\" x=\"335.888672\"/>\n      <use xlink:href=\"#DejaVuSans-29\" x=\"399.511719\"/>\n     </g>\n    </g>\n    <g id=\"line2d_26\">\n     <path d=\"M 304.089063 64.332812 \nL 314.089063 64.332812 \nL 324.089063 64.332812 \n\" style=\"fill: none; stroke: #d62728; stroke-width: 1.5; stroke-linecap: square\"/>\n    </g>\n    <g id=\"text_21\">\n     <!-- P(die=4) -->\n     <g transform=\"translate(332.089063 67.832812)scale(0.1 -0.1)\">\n      <use xlink:href=\"#DejaVuSans-50\"/>\n      <use xlink:href=\"#DejaVuSans-28\" x=\"60.302734\"/>\n      <use xlink:href=\"#DejaVuSans-64\" x=\"99.316406\"/>\n      <use xlink:href=\"#DejaVuSans-69\" x=\"162.792969\"/>\n      <use xlink:href=\"#DejaVuSans-65\" x=\"190.576172\"/>\n      <use xlink:href=\"#DejaVuSans-3d\" x=\"252.099609\"/>\n      <use xlink:href=\"#DejaVuSans-34\" x=\"335.888672\"/>\n      <use xlink:href=\"#DejaVuSans-29\" x=\"399.511719\"/>\n     </g>\n    </g>\n    <g id=\"line2d_27\">\n     <path d=\"M 304.089063 79.010937 \nL 314.089063 79.010937 \nL 324.089063 79.010937 \n\" style=\"fill: none; stroke: #9467bd; stroke-width: 1.5; stroke-linecap: square\"/>\n    </g>\n    <g id=\"text_22\">\n     <!-- P(die=5) -->\n     <g transform=\"translate(332.089063 82.510937)scale(0.1 -0.1)\">\n      <use xlink:href=\"#DejaVuSans-50\"/>\n      <use xlink:href=\"#DejaVuSans-28\" x=\"60.302734\"/>\n      <use xlink:href=\"#DejaVuSans-64\" x=\"99.316406\"/>\n      <use xlink:href=\"#DejaVuSans-69\" x=\"162.792969\"/>\n      <use xlink:href=\"#DejaVuSans-65\" x=\"190.576172\"/>\n      <use xlink:href=\"#DejaVuSans-3d\" x=\"252.099609\"/>\n      <use xlink:href=\"#DejaVuSans-35\" x=\"335.888672\"/>\n      <use xlink:href=\"#DejaVuSans-29\" x=\"399.511719\"/>\n     </g>\n    </g>\n    <g id=\"line2d_28\">\n     <path d=\"M 304.089063 93.689062 \nL 314.089063 93.689062 \nL 324.089063 93.689062 \n\" style=\"fill: none; stroke: #8c564b; stroke-width: 1.5; stroke-linecap: square\"/>\n    </g>\n    <g id=\"text_23\">\n     <!-- P(die=6) -->\n     <g transform=\"translate(332.089063 97.189062)scale(0.1 -0.1)\">\n      <defs>\n       <path id=\"DejaVuSans-36\" d=\"M 2113 2584 \nQ 1688 2584 1439 2293 \nQ 1191 2003 1191 1497 \nQ 1191 994 1439 701 \nQ 1688 409 2113 409 \nQ 2538 409 2786 701 \nQ 3034 994 3034 1497 \nQ 3034 2003 2786 2293 \nQ 2538 2584 2113 2584 \nz\nM 3366 4563 \nL 3366 3988 \nQ 3128 4100 2886 4159 \nQ 2644 4219 2406 4219 \nQ 1781 4219 1451 3797 \nQ 1122 3375 1075 2522 \nQ 1259 2794 1537 2939 \nQ 1816 3084 2150 3084 \nQ 2853 3084 3261 2657 \nQ 3669 2231 3669 1497 \nQ 3669 778 3244 343 \nQ 2819 -91 2113 -91 \nQ 1303 -91 875 529 \nQ 447 1150 447 2328 \nQ 447 3434 972 4092 \nQ 1497 4750 2381 4750 \nQ 2619 4750 2861 4703 \nQ 3103 4656 3366 4563 \nz\n\" transform=\"scale(0.015625)\"/>\n      </defs>\n      <use xlink:href=\"#DejaVuSans-50\"/>\n      <use xlink:href=\"#DejaVuSans-28\" x=\"60.302734\"/>\n      <use xlink:href=\"#DejaVuSans-64\" x=\"99.316406\"/>\n      <use xlink:href=\"#DejaVuSans-69\" x=\"162.792969\"/>\n      <use xlink:href=\"#DejaVuSans-65\" x=\"190.576172\"/>\n      <use xlink:href=\"#DejaVuSans-3d\" x=\"252.099609\"/>\n      <use xlink:href=\"#DejaVuSans-36\" x=\"335.888672\"/>\n      <use xlink:href=\"#DejaVuSans-29\" x=\"399.511719\"/>\n     </g>\n    </g>\n   </g>\n  </g>\n </g>\n <defs>\n  <clipPath id=\"pe1eb056744\">\n   <rect x=\"50.14375\" y=\"7.2\" width=\"334.8\" height=\"244.62\"/>\n  </clipPath>\n </defs>\n</svg>\n"
     },
     "metadata": {
      "needs_background": "light"
     },
     "output_type": "display_data"
    }
   ],
   "source": [
    "counts = multinomial.Multinomial(10, fair_probs).sample((500, ))\n",
    "cum_counts = counts.cumsum(dim=0)\n",
    "estimates = cum_counts / cum_counts.sum(dim=1, keepdim=True)\n",
    "\n",
    "plt.figure(figsize=(6, 4.5))\n",
    "for i in range(6):\n",
    "    plt.plot(estimates[:, i].numpy(), label=(\"P(die=\" + str(i + 1) + \")\"))\n",
    "plt.axhline(y=0.167, color='black', linestyle='dashed')\n",
    "plt.gca().set_xlabel('Groups of experiments')\n",
    "plt.gca().set_ylabel('Estimated probability')\n",
    "plt.legend()"
   ],
   "metadata": {
    "collapsed": false,
    "pycharm": {
     "name": "#%%\n"
    }
   }
  },
  {
   "cell_type": "code",
   "execution_count": null,
   "outputs": [],
   "source": [],
   "metadata": {
    "collapsed": false,
    "pycharm": {
     "name": "#%%\n"
    }
   }
  }
 ],
 "metadata": {
  "kernelspec": {
   "display_name": "Python 3",
   "language": "python",
   "name": "python3"
  },
  "language_info": {
   "codemirror_mode": {
    "name": "ipython",
    "version": 2
   },
   "file_extension": ".py",
   "mimetype": "text/x-python",
   "name": "python",
   "nbconvert_exporter": "python",
   "pygments_lexer": "ipython2",
   "version": "2.7.6"
  }
 },
 "nbformat": 4,
 "nbformat_minor": 0
}